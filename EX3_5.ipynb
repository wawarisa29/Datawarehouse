{
  "nbformat": 4,
  "nbformat_minor": 0,
  "metadata": {
    "colab": {
      "name": "EX3-5.ipynb",
      "provenance": [],
      "collapsed_sections": [],
      "include_colab_link": true
    },
    "kernelspec": {
      "name": "python3",
      "display_name": "Python 3"
    }
  },
  "cells": [
    {
      "cell_type": "markdown",
      "metadata": {
        "id": "view-in-github",
        "colab_type": "text"
      },
      "source": [
        "<a href=\"https://colab.research.google.com/github/wawarisa29/Datawarehouse/blob/master/EX3_5.ipynb\" target=\"_parent\"><img src=\"https://colab.research.google.com/assets/colab-badge.svg\" alt=\"Open In Colab\"/></a>"
      ]
    },
    {
      "cell_type": "markdown",
      "metadata": {
        "id": "Ri7wV69Ilz_7",
        "colab_type": "text"
      },
      "source": [
        "# EX.3\n"
      ]
    },
    {
      "cell_type": "code",
      "metadata": {
        "id": "j2JLye9KlOey",
        "colab_type": "code",
        "colab": {
          "base_uri": "https://localhost:8080/",
          "height": 269
        },
        "outputId": "206381dd-81a6-4f43-faef-0f9aa4592f7b"
      },
      "source": [
        "import numpy as np\n",
        "import matplotlib.pyplot as plt \n",
        "x=np.linspace(0,12,80)\n",
        "y=np.cos(x)\n",
        "plt.plot(x,y)\n",
        "plt.show()"
      ],
      "execution_count": 9,
      "outputs": [
        {
          "output_type": "display_data",
          "data": {
            "image/png": "[encoded data removed]",
            "text/plain": [
              "<Figure size 432x288 with 1 Axes>"
            ]
          },
          "metadata": {
            "tags": []
          }
        }
      ]
    },
    {
      "cell_type": "markdown",
      "metadata": {
        "id": "gBWDAYSymxuI",
        "colab_type": "text"
      },
      "source": [
        "# EX.4"
      ]
    },
    {
      "cell_type": "code",
      "metadata": {
        "id": "Waoxw-O_mzQT",
        "colab_type": "code",
        "outputId": "2a0d4600-f2de-4ce6-a857-5eaf8949e513",
        "colab": {
          "base_uri": "https://localhost:8080/",
          "height": 34
        }
      },
      "source": [
        "np_test= np.arange(25).reshape(5,5)\n",
        "np_test_mod=np_test%3 ==0\n",
        "A= np_test[np_test_mod]\n",
        "A"
      ],
      "execution_count": 12,
      "outputs": [
        {
          "output_type": "execute_result",
          "data": {
            "text/plain": [
              "array([ 0,  3,  6,  9, 12, 15, 18, 21, 24])"
            ]
          },
          "metadata": {
            "tags": []
          },
          "execution_count": 12
        }
      ]
    },
    {
      "cell_type": "markdown",
      "metadata": {
        "id": "APzhkDYY9XZO",
        "colab_type": "text"
      },
      "source": [
        "#EX.5"
      ]
    },
    {
      "cell_type": "code",
      "metadata": {
        "id": "LVb8mL9Mm_4X",
        "colab_type": "code",
        "colab": {
          "base_uri": "https://localhost:8080/",
          "height": 102
        },
        "outputId": "e800c522-31b2-47a2-d95b-044d4275ce62"
      },
      "source": [
        "np_test=np.arange(25).reshape(5,5)\n",
        "np.fill_diagonal(np_test,0)\n",
        "np_test"
      ],
      "execution_count": 15,
      "outputs": [
        {
          "output_type": "execute_result",
          "data": {
            "text/plain": [
              "array([[ 0,  1,  2,  3,  4],\n",
              "       [ 5,  0,  7,  8,  9],\n",
              "       [10, 11,  0, 13, 14],\n",
              "       [15, 16, 17,  0, 19],\n",
              "       [20, 21, 22, 23,  0]])"
            ]
          },
          "metadata": {
            "tags": []
          },
          "execution_count": 15
        }
      ]
    },
    {
      "cell_type": "code",
      "metadata": {
        "id": "dC3rfNNb9ZAB",
        "colab_type": "code",
        "colab": {}
      },
      "source": [
        ""
      ],
      "execution_count": 0,
      "outputs": []
    }
  ]
}
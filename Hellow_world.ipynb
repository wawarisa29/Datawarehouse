{
  "nbformat": 4,
  "nbformat_minor": 0,
  "metadata": {
    "colab": {
      "name": "Hellow_world.ipynb",
      "provenance": [],
      "collapsed_sections": [],
      "include_colab_link": true
    },
    "kernelspec": {
      "name": "python3",
      "display_name": "Python 3"
    }
  },
  "cells": [
    {
      "cell_type": "markdown",
      "metadata": {
        "id": "view-in-github",
        "colab_type": "text"
      },
      "source": [
        "<a href=\"https://colab.research.google.com/github/wawarisa29/Datawarehouse/blob/master/Hellow_world.ipynb\" target=\"_parent\"><img src=\"https://colab.research.google.com/assets/colab-badge.svg\" alt=\"Open In Colab\"/></a>"
      ]
    },
    {
      "cell_type": "markdown",
      "metadata": {
        "id": "Dse59YBniULH",
        "colab_type": "text"
      },
      "source": [
        "# Hello PyYhon\n",
        "## Hello Python\n",
        "### Hello Python\n",
        "This is my first PyThon Program\n"
      ]
    },
    {
      "cell_type": "code",
      "metadata": {
        "id": "RM6Rt_Kqh47J",
        "colab_type": "code",
        "colab": {
          "base_uri": "https://localhost:8080/",
          "height": 34
        },
        "outputId": "c47aba13-0e88-401e-89c1-c6cb6b4d6369"
      },
      "source": [
        "print(\"Hello World\")"
      ],
      "execution_count": 1,
      "outputs": [
        {
          "output_type": "stream",
          "text": [
            "Hello World\n"
          ],
          "name": "stdout"
        }
      ]
    },
    {
      "cell_type": "code",
      "metadata": {
        "id": "frucKiRqi9Jq",
        "colab_type": "code",
        "colab": {}
      },
      "source": [
        ""
      ],
      "execution_count": 0,
      "outputs": []
    },
    {
      "cell_type": "markdown",
      "metadata": {
        "id": "CuEweQrCjL_V",
        "colab_type": "text"
      },
      "source": [
        "#Declare Variable\n",
        "How to declare variable in PyThon\n",
        "- str(score) change score to string\n",
        "- name = Phasit\n",
        "  +name+   change variable to string"
      ]
    },
    {
      "cell_type": "code",
      "metadata": {
        "id": "xC3mZlw-jQFz",
        "colab_type": "code",
        "colab": {
          "base_uri": "https://localhost:8080/",
          "height": 34
        },
        "outputId": "ce0d9f49-f773-4280-bdc3-e41c9f78544f"
      },
      "source": [
        "score = 100\n",
        "name = \"Phasit\"\n",
        "print(\" Name is \"+ name + \" score is \"+ str(score))"
      ],
      "execution_count": 2,
      "outputs": [
        {
          "output_type": "stream",
          "text": [
            " Name is Phasit score is 100\n"
          ],
          "name": "stdout"
        }
      ]
    },
    {
      "cell_type": "code",
      "metadata": {
        "id": "Yn4gq_Klju1a",
        "colab_type": "code",
        "colab": {
          "base_uri": "https://localhost:8080/",
          "height": 34
        },
        "outputId": "5ebd25cf-c4e0-48ce-9ed1-be8ea3fb02c3"
      },
      "source": [
        "a = 2\n",
        "b = 3\n",
        "c = a * b \n",
        "print(c)"
      ],
      "execution_count": 3,
      "outputs": [
        {
          "output_type": "stream",
          "text": [
            "6\n"
          ],
          "name": "stdout"
        }
      ]
    },
    {
      "cell_type": "markdown",
      "metadata": {
        "id": "P06ghBsMmvm7",
        "colab_type": "text"
      },
      "source": [
        "# List \n",
        "How to use list in python \n",
        "\n"
      ]
    },
    {
      "cell_type": "code",
      "metadata": {
        "id": "bWQVNyAakUma",
        "colab_type": "code",
        "colab": {
          "base_uri": "https://localhost:8080/",
          "height": 34
        },
        "outputId": "9371e0c7-d244-4092-feaf-beade821cd5e"
      },
      "source": [
        "mylist = []\n",
        "mylist.append(\"Phasit\")\n",
        "mylist.append(200)\n",
        "mylist"
      ],
      "execution_count": 4,
      "outputs": [
        {
          "output_type": "execute_result",
          "data": {
            "text/plain": [
              "['Phasit', 200]"
            ]
          },
          "metadata": {
            "tags": []
          },
          "execution_count": 4
        }
      ]
    },
    {
      "cell_type": "markdown",
      "metadata": {
        "id": "o52XHtFenLmA",
        "colab_type": "text"
      },
      "source": [
        "How to count data in list"
      ]
    },
    {
      "cell_type": "code",
      "metadata": {
        "id": "xZ1aPNLLnJCd",
        "colab_type": "code",
        "colab": {
          "base_uri": "https://localhost:8080/",
          "height": 34
        },
        "outputId": "0bad857c-5513-425f-f5b5-b41b01b27db4"
      },
      "source": [
        "len(mylist)"
      ],
      "execution_count": 5,
      "outputs": [
        {
          "output_type": "execute_result",
          "data": {
            "text/plain": [
              "2"
            ]
          },
          "metadata": {
            "tags": []
          },
          "execution_count": 5
        }
      ]
    },
    {
      "cell_type": "markdown",
      "metadata": {
        "id": "DhP6f3j_nxW3",
        "colab_type": "text"
      },
      "source": [
        "# if else PyThon\n",
        "How to use if else in python"
      ]
    },
    {
      "cell_type": "code",
      "metadata": {
        "id": "WHcl4IohnWg4",
        "colab_type": "code",
        "colab": {
          "base_uri": "https://localhost:8080/",
          "height": 34
        },
        "outputId": "27fbcee0-f3cc-4f6c-8f0e-dd2d29e03abb"
      },
      "source": [
        "if mylist[1] > 100 :\n",
        "  print(\"Pass\")"
      ],
      "execution_count": 7,
      "outputs": [
        {
          "output_type": "stream",
          "text": [
            "Pass\n"
          ],
          "name": "stdout"
        }
      ]
    },
    {
      "cell_type": "code",
      "metadata": {
        "id": "WjeQShXCoKO-",
        "colab_type": "code",
        "colab": {
          "base_uri": "https://localhost:8080/",
          "height": 34
        },
        "outputId": "68e1e166-3482-4372-97e2-82414ba7ee78"
      },
      "source": [
        "if mylist[1] > 100 :\n",
        "  name = mylist[0]\n",
        "  score = mylist[1]\n",
        "  print(name+\" \"+str(score))\n",
        "elif mylist[1] > 200 :\n",
        "  print(\"Very Pass\")\n",
        "else:\n",
        "  print(\"Super Pass\")"
      ],
      "execution_count": 8,
      "outputs": [
        {
          "output_type": "stream",
          "text": [
            "Phasit 200\n"
          ],
          "name": "stdout"
        }
      ]
    },
    {
      "cell_type": "markdown",
      "metadata": {
        "id": "Lm4aLnhHqQIm",
        "colab_type": "text"
      },
      "source": [
        "# For loop in PyThon"
      ]
    },
    {
      "cell_type": "code",
      "metadata": {
        "id": "Wszs8UpapBel",
        "colab_type": "code",
        "colab": {
          "base_uri": "https://localhost:8080/",
          "height": 204
        },
        "outputId": "2df25d1d-8385-4594-e017-114606a56fd3"
      },
      "source": [
        "summation = 0\n",
        "for i in range(0,10):\n",
        "  print(str(i))\n",
        "  summation = summation + 1\n",
        "print(\" The summation result is \" + str(summation))"
      ],
      "execution_count": 9,
      "outputs": [
        {
          "output_type": "stream",
          "text": [
            "0\n",
            "1\n",
            "2\n",
            "3\n",
            "4\n",
            "5\n",
            "6\n",
            "7\n",
            "8\n",
            "9\n",
            " The summation result is 10\n"
          ],
          "name": "stdout"
        }
      ]
    },
    {
      "cell_type": "code",
      "metadata": {
        "id": "DHYeaigMrBEw",
        "colab_type": "code",
        "colab": {
          "base_uri": "https://localhost:8080/",
          "height": 187
        },
        "outputId": "f0e08527-0ce4-4f84-f8a1-dae77d2c56aa"
      },
      "source": [
        "summation = []\n",
        "for i in range(0,10):\n",
        "  summation.append(i)\n",
        "\n",
        "for i in summation:\n",
        "  print(str(i))"
      ],
      "execution_count": 11,
      "outputs": [
        {
          "output_type": "stream",
          "text": [
            "0\n",
            "1\n",
            "2\n",
            "3\n",
            "4\n",
            "5\n",
            "6\n",
            "7\n",
            "8\n",
            "9\n"
          ],
          "name": "stdout"
        }
      ]
    },
    {
      "cell_type": "markdown",
      "metadata": {
        "id": "2QIUPKgUstcT",
        "colab_type": "text"
      },
      "source": [
        "Below \n",
        "i 10 round\n",
        "a is a+5 OK Naa"
      ]
    },
    {
      "cell_type": "code",
      "metadata": {
        "id": "SBDEDMfYrZkj",
        "colab_type": "code",
        "colab": {
          "base_uri": "https://localhost:8080/",
          "height": 187
        },
        "outputId": "14d274f0-d3d5-4962-c362-81c5a2d08d7b"
      },
      "source": [
        "summation = []\n",
        "a = 0\n",
        "for i in range(0,10):\n",
        "  a = a + 5\n",
        "  summation.append(a)\n",
        "\n",
        "for i in summation:\n",
        "  print(str(i))"
      ],
      "execution_count": 14,
      "outputs": [
        {
          "output_type": "stream",
          "text": [
            "5\n",
            "10\n",
            "15\n",
            "20\n",
            "25\n",
            "30\n",
            "35\n",
            "40\n",
            "45\n",
            "50\n"
          ],
          "name": "stdout"
        }
      ]
    },
    {
      "cell_type": "code",
      "metadata": {
        "id": "vD2lhTB7sj5C",
        "colab_type": "code",
        "colab": {
          "base_uri": "https://localhost:8080/",
          "height": 187
        },
        "outputId": "5e007564-7012-46f7-975b-f33d08522eb2"
      },
      "source": [
        "summation = []\n",
        "a = 0\n",
        "for i in range(0,10):\n",
        "  a = a + 5\n",
        "  summation.append(a)\n",
        "\n",
        "for i in summation:\n",
        "  print(str(a))"
      ],
      "execution_count": 15,
      "outputs": [
        {
          "output_type": "stream",
          "text": [
            "50\n",
            "50\n",
            "50\n",
            "50\n",
            "50\n",
            "50\n",
            "50\n",
            "50\n",
            "50\n",
            "50\n"
          ],
          "name": "stdout"
        }
      ]
    },
    {
      "cell_type": "markdown",
      "metadata": {
        "id": "oYnOh0BYvaYY",
        "colab_type": "text"
      },
      "source": [
        "# NumPy"
      ]
    },
    {
      "cell_type": "markdown",
      "metadata": {
        "id": "pQ41MX-wwWDo",
        "colab_type": "text"
      },
      "source": [
        "Load numpy library"
      ]
    },
    {
      "cell_type": "code",
      "metadata": {
        "id": "PRN62CnJtkiW",
        "colab_type": "code",
        "colab": {}
      },
      "source": [
        "import numpy as np"
      ],
      "execution_count": 0,
      "outputs": []
    },
    {
      "cell_type": "markdown",
      "metadata": {
        "id": "rdDnzeygwppH",
        "colab_type": "text"
      },
      "source": [
        "Create array in numpy"
      ]
    },
    {
      "cell_type": "code",
      "metadata": {
        "id": "GztQjK0FvpHE",
        "colab_type": "code",
        "colab": {
          "base_uri": "https://localhost:8080/",
          "height": 34
        },
        "outputId": "88c0102c-4b5a-4623-84e3-d173c90e8365"
      },
      "source": [
        "l = [1,2,3,4,5]\n",
        "np_array = np.array(1)\n",
        "type(np_array)"
      ],
      "execution_count": 18,
      "outputs": [
        {
          "output_type": "execute_result",
          "data": {
            "text/plain": [
              "numpy.ndarray"
            ]
          },
          "metadata": {
            "tags": []
          },
          "execution_count": 18
        }
      ]
    },
    {
      "cell_type": "markdown",
      "metadata": {
        "id": "WwjQPmezw-wK",
        "colab_type": "text"
      },
      "source": [
        "Create Matrix in Array format"
      ]
    },
    {
      "cell_type": "code",
      "metadata": {
        "id": "mbssXslZw5UK",
        "colab_type": "code",
        "colab": {
          "base_uri": "https://localhost:8080/",
          "height": 68
        },
        "outputId": "8c413364-3c31-40fa-e52b-3538704f3eb4"
      },
      "source": [
        "np_matrix = np.array([[1,2],[3,4],[5,6]])\n",
        "np_matrix"
      ],
      "execution_count": 19,
      "outputs": [
        {
          "output_type": "execute_result",
          "data": {
            "text/plain": [
              "array([[1, 2],\n",
              "       [3, 4],\n",
              "       [5, 6]])"
            ]
          },
          "metadata": {
            "tags": []
          },
          "execution_count": 19
        }
      ]
    },
    {
      "cell_type": "markdown",
      "metadata": {
        "id": "J_s4VLUrx4q3",
        "colab_type": "text"
      },
      "source": [
        "Check the dimension of this matrix"
      ]
    },
    {
      "cell_type": "code",
      "metadata": {
        "id": "SYa86oYCxnVt",
        "colab_type": "code",
        "colab": {
          "base_uri": "https://localhost:8080/",
          "height": 34
        },
        "outputId": "e3ea8399-6dcf-4c68-f2b5-d47166579c04"
      },
      "source": [
        "np.size(np_matrix,0)"
      ],
      "execution_count": 20,
      "outputs": [
        {
          "output_type": "execute_result",
          "data": {
            "text/plain": [
              "3"
            ]
          },
          "metadata": {
            "tags": []
          },
          "execution_count": 20
        }
      ]
    },
    {
      "cell_type": "code",
      "metadata": {
        "id": "BKi1oy3kyC6c",
        "colab_type": "code",
        "colab": {
          "base_uri": "https://localhost:8080/",
          "height": 34
        },
        "outputId": "d2cf7c6a-f3c5-4bb6-93fe-200f4205690c"
      },
      "source": [
        "np.size(np_matrix,1)"
      ],
      "execution_count": 21,
      "outputs": [
        {
          "output_type": "execute_result",
          "data": {
            "text/plain": [
              "2"
            ]
          },
          "metadata": {
            "tags": []
          },
          "execution_count": 21
        }
      ]
    },
    {
      "cell_type": "markdown",
      "metadata": {
        "id": "2p9svtvZypet",
        "colab_type": "text"
      },
      "source": [
        "Check other matrix properties"
      ]
    },
    {
      "cell_type": "code",
      "metadata": {
        "id": "Ff9hADe9yM7U",
        "colab_type": "code",
        "colab": {
          "base_uri": "https://localhost:8080/",
          "height": 34
        },
        "outputId": "c4a1a7a2-505e-4baf-e0c6-b6b76a2655c8"
      },
      "source": [
        "np_matrix.shape"
      ],
      "execution_count": 22,
      "outputs": [
        {
          "output_type": "execute_result",
          "data": {
            "text/plain": [
              "(3, 2)"
            ]
          },
          "metadata": {
            "tags": []
          },
          "execution_count": 22
        }
      ]
    },
    {
      "cell_type": "code",
      "metadata": {
        "id": "mVbzOHT8y3_O",
        "colab_type": "code",
        "colab": {
          "base_uri": "https://localhost:8080/",
          "height": 34
        },
        "outputId": "c4b5100a-e2a1-4444-d5d6-226449a5aaef"
      },
      "source": [
        "np_matrix.ndim"
      ],
      "execution_count": 23,
      "outputs": [
        {
          "output_type": "execute_result",
          "data": {
            "text/plain": [
              "2"
            ]
          },
          "metadata": {
            "tags": []
          },
          "execution_count": 23
        }
      ]
    },
    {
      "cell_type": "code",
      "metadata": {
        "id": "K8A8U54x0m2a",
        "colab_type": "code",
        "colab": {
          "base_uri": "https://localhost:8080/",
          "height": 34
        },
        "outputId": "e5e8056b-fd03-4d8d-982b-7f29f9ad6fca"
      },
      "source": [
        "np_matrix.size"
      ],
      "execution_count": 24,
      "outputs": [
        {
          "output_type": "execute_result",
          "data": {
            "text/plain": [
              "6"
            ]
          },
          "metadata": {
            "tags": []
          },
          "execution_count": 24
        }
      ]
    },
    {
      "cell_type": "markdown",
      "metadata": {
        "id": "5PbcniB70tby",
        "colab_type": "text"
      },
      "source": [
        "# Matrix can be mix type(auto casting)"
      ]
    },
    {
      "cell_type": "markdown",
      "metadata": {
        "id": "gojjFiAz1Fjz",
        "colab_type": "text"
      },
      "source": [
        "Create Matrix with Mix Data Type"
      ]
    },
    {
      "cell_type": "code",
      "metadata": {
        "id": "HVTxGB2W0qZK",
        "colab_type": "code",
        "colab": {}
      },
      "source": [
        "np_mix_matrix = np.array([['one',2],['three',4],['five',6]])"
      ],
      "execution_count": 0,
      "outputs": []
    },
    {
      "cell_type": "code",
      "metadata": {
        "id": "hyA5-2JB1hDO",
        "colab_type": "code",
        "colab": {
          "base_uri": "https://localhost:8080/",
          "height": 68
        },
        "outputId": "4e950113-b910-432b-eafc-09b01bf8535a"
      },
      "source": [
        "np_mix_matrix"
      ],
      "execution_count": 26,
      "outputs": [
        {
          "output_type": "execute_result",
          "data": {
            "text/plain": [
              "array([['one', '2'],\n",
              "       ['three', '4'],\n",
              "       ['five', '6']], dtype='<U5')"
            ]
          },
          "metadata": {
            "tags": []
          },
          "execution_count": 26
        }
      ]
    },
    {
      "cell_type": "markdown",
      "metadata": {
        "id": "7nQ_ehMH18RS",
        "colab_type": "text"
      },
      "source": [
        "Access matrix element"
      ]
    },
    {
      "cell_type": "code",
      "metadata": {
        "id": "2TNja3So1mfp",
        "colab_type": "code",
        "colab": {
          "base_uri": "https://localhost:8080/",
          "height": 34
        },
        "outputId": "e38f4d04-eeab-44f7-f747-09a3a67ec906"
      },
      "source": [
        "np_mix_matrix[0,1]"
      ],
      "execution_count": 30,
      "outputs": [
        {
          "output_type": "execute_result",
          "data": {
            "text/plain": [
              "'2'"
            ]
          },
          "metadata": {
            "tags": []
          },
          "execution_count": 30
        }
      ]
    },
    {
      "cell_type": "markdown",
      "metadata": {
        "id": "yDbLjm5P2Yg6",
        "colab_type": "text"
      },
      "source": [
        "Access all column of matrix"
      ]
    },
    {
      "cell_type": "code",
      "metadata": {
        "id": "BIQQa6D92IAn",
        "colab_type": "code",
        "colab": {
          "base_uri": "https://localhost:8080/",
          "height": 34
        },
        "outputId": "5e1c9403-2828-4026-aa1a-680902752e9b"
      },
      "source": [
        "np_mix_matrix[:,0]"
      ],
      "execution_count": 31,
      "outputs": [
        {
          "output_type": "execute_result",
          "data": {
            "text/plain": [
              "array(['one', 'three', 'five'], dtype='<U5')"
            ]
          },
          "metadata": {
            "tags": []
          },
          "execution_count": 31
        }
      ]
    },
    {
      "cell_type": "markdown",
      "metadata": {
        "id": "GFJnYXFD235j",
        "colab_type": "text"
      },
      "source": [
        "Access all row of matrix"
      ]
    },
    {
      "cell_type": "code",
      "metadata": {
        "id": "_cMNn4322oJw",
        "colab_type": "code",
        "colab": {
          "base_uri": "https://localhost:8080/",
          "height": 34
        },
        "outputId": "6bffa4ea-6676-4ae3-de16-031b3b894d4b"
      },
      "source": [
        "np_mix_matrix[0,]"
      ],
      "execution_count": 32,
      "outputs": [
        {
          "output_type": "execute_result",
          "data": {
            "text/plain": [
              "array(['one', '2'], dtype='<U5')"
            ]
          },
          "metadata": {
            "tags": []
          },
          "execution_count": 32
        }
      ]
    },
    {
      "cell_type": "markdown",
      "metadata": {
        "id": "dSq2zt_D4JXf",
        "colab_type": "text"
      },
      "source": [
        "32  0 all"
      ]
    },
    {
      "cell_type": "markdown",
      "metadata": {
        "id": "RbIQh_uF3E7h",
        "colab_type": "text"
      },
      "source": [
        "Access element from row 0 to row 1"
      ]
    },
    {
      "cell_type": "code",
      "metadata": {
        "id": "RRt_aZe_3AdY",
        "colab_type": "code",
        "colab": {
          "base_uri": "https://localhost:8080/",
          "height": 51
        },
        "outputId": "83341893-329c-4720-aacd-6e7430c8bcb6"
      },
      "source": [
        "np_mix_matrix[0:2,]"
      ],
      "execution_count": 33,
      "outputs": [
        {
          "output_type": "execute_result",
          "data": {
            "text/plain": [
              "array([['one', '2'],\n",
              "       ['three', '4']], dtype='<U5')"
            ]
          },
          "metadata": {
            "tags": []
          },
          "execution_count": 33
        }
      ]
    },
    {
      "cell_type": "markdown",
      "metadata": {
        "id": "lfBYI7mj4RLa",
        "colab_type": "text"
      },
      "source": [
        "Type casting ndarray object"
      ]
    },
    {
      "cell_type": "code",
      "metadata": {
        "id": "n7-SXGeY4G1d",
        "colab_type": "code",
        "colab": {
          "base_uri": "https://localhost:8080/",
          "height": 34
        },
        "outputId": "b88572b8-9acb-4ed8-de41-920f554602d6"
      },
      "source": [
        "np.array(np_mix_matrix[:,1],dtype = int)"
      ],
      "execution_count": 35,
      "outputs": [
        {
          "output_type": "execute_result",
          "data": {
            "text/plain": [
              "array([2, 4, 6])"
            ]
          },
          "metadata": {
            "tags": []
          },
          "execution_count": 35
        }
      ]
    },
    {
      "cell_type": "markdown",
      "metadata": {
        "id": "OFHb2WEG4yWv",
        "colab_type": "text"
      },
      "source": [
        "Create matrix of zeros\n"
      ]
    },
    {
      "cell_type": "code",
      "metadata": {
        "id": "aH5J_DD-4k0T",
        "colab_type": "code",
        "colab": {
          "base_uri": "https://localhost:8080/",
          "height": 51
        },
        "outputId": "9564c827-94c0-4693-be22-9260ce1cecb1"
      },
      "source": [
        "np.zeros([2,3])"
      ],
      "execution_count": 36,
      "outputs": [
        {
          "output_type": "execute_result",
          "data": {
            "text/plain": [
              "array([[0., 0., 0.],\n",
              "       [0., 0., 0.]])"
            ]
          },
          "metadata": {
            "tags": []
          },
          "execution_count": 36
        }
      ]
    },
    {
      "cell_type": "markdown",
      "metadata": {
        "id": "M5ckui785NoW",
        "colab_type": "text"
      },
      "source": [
        "Create matrix of ones"
      ]
    },
    {
      "cell_type": "code",
      "metadata": {
        "id": "gytgpZS55HkV",
        "colab_type": "code",
        "colab": {
          "base_uri": "https://localhost:8080/",
          "height": 102
        },
        "outputId": "5b4fa1d6-4f6e-4aa2-fcdc-64e4bebc1886"
      },
      "source": [
        "np.ones([5,5])"
      ],
      "execution_count": 37,
      "outputs": [
        {
          "output_type": "execute_result",
          "data": {
            "text/plain": [
              "array([[1., 1., 1., 1., 1.],\n",
              "       [1., 1., 1., 1., 1.],\n",
              "       [1., 1., 1., 1., 1.],\n",
              "       [1., 1., 1., 1., 1.],\n",
              "       [1., 1., 1., 1., 1.]])"
            ]
          },
          "metadata": {
            "tags": []
          },
          "execution_count": 37
        }
      ]
    },
    {
      "cell_type": "markdown",
      "metadata": {
        "id": "LAakhHRX5XDu",
        "colab_type": "text"
      },
      "source": [
        "Create Eye Matrix"
      ]
    },
    {
      "cell_type": "code",
      "metadata": {
        "id": "HfK7SzTn5VKd",
        "colab_type": "code",
        "colab": {
          "base_uri": "https://localhost:8080/",
          "height": 102
        },
        "outputId": "f5d11473-505a-4098-f084-0666fdd33b0b"
      },
      "source": [
        "np.eye(5)"
      ],
      "execution_count": 38,
      "outputs": [
        {
          "output_type": "execute_result",
          "data": {
            "text/plain": [
              "array([[1., 0., 0., 0., 0.],\n",
              "       [0., 1., 0., 0., 0.],\n",
              "       [0., 0., 1., 0., 0.],\n",
              "       [0., 0., 0., 1., 0.],\n",
              "       [0., 0., 0., 0., 1.]])"
            ]
          },
          "metadata": {
            "tags": []
          },
          "execution_count": 38
        }
      ]
    },
    {
      "cell_type": "markdown",
      "metadata": {
        "id": "IFf9ZT1S5dyv",
        "colab_type": "text"
      },
      "source": [
        "Create Empty Matrix"
      ]
    },
    {
      "cell_type": "code",
      "metadata": {
        "id": "2oURnCPA5cVU",
        "colab_type": "code",
        "colab": {
          "base_uri": "https://localhost:8080/",
          "height": 102
        },
        "outputId": "404ee846-5f9d-4fda-9933-9ecbf7e52ebb"
      },
      "source": [
        "np.empty([5,5])"
      ],
      "execution_count": 39,
      "outputs": [
        {
          "output_type": "execute_result",
          "data": {
            "text/plain": [
              "array([[1., 0., 0., 0., 0.],\n",
              "       [0., 1., 0., 0., 0.],\n",
              "       [0., 0., 1., 0., 0.],\n",
              "       [0., 0., 0., 1., 0.],\n",
              "       [0., 0., 0., 0., 1.]])"
            ]
          },
          "metadata": {
            "tags": []
          },
          "execution_count": 39
        }
      ]
    },
    {
      "cell_type": "markdown",
      "metadata": {
        "id": "RZd1hAs566s_",
        "colab_type": "text"
      },
      "source": [
        "# Generate Random Matrix"
      ]
    },
    {
      "cell_type": "markdown",
      "metadata": {
        "id": "Xng1dA1i6Jag",
        "colab_type": "text"
      },
      "source": [
        "Random matrix of size = (5,5)"
      ]
    },
    {
      "cell_type": "code",
      "metadata": {
        "id": "l_aitnVJ5oiN",
        "colab_type": "code",
        "colab": {
          "base_uri": "https://localhost:8080/",
          "height": 102
        },
        "outputId": "3cca1a3a-c152-43a6-c23a-b39587b6c374"
      },
      "source": [
        "np.random.rand(5,5)"
      ],
      "execution_count": 40,
      "outputs": [
        {
          "output_type": "execute_result",
          "data": {
            "text/plain": [
              "array([[0.46982781, 0.02751703, 0.45188734, 0.99216477, 0.07056586],\n",
              "       [0.01218559, 0.32788249, 0.79549822, 0.07781309, 0.22643969],\n",
              "       [0.81446541, 0.38551112, 0.80564379, 0.25661441, 0.65678117],\n",
              "       [0.79332127, 0.10710973, 0.28497641, 0.21455817, 0.28668685],\n",
              "       [0.14078294, 0.01230174, 0.39184126, 0.63247781, 0.91606452]])"
            ]
          },
          "metadata": {
            "tags": []
          },
          "execution_count": 40
        }
      ]
    },
    {
      "cell_type": "markdown",
      "metadata": {
        "id": "QvlRfTYo6X7f",
        "colab_type": "text"
      },
      "source": [
        "Random matrix of size = 3,3 having value between 0 to 4"
      ]
    },
    {
      "cell_type": "code",
      "metadata": {
        "id": "wXH_C2ss6Upk",
        "colab_type": "code",
        "colab": {
          "base_uri": "https://localhost:8080/",
          "height": 68
        },
        "outputId": "ae84a9f2-b7bb-4be5-9a3f-b1dd1054a7c6"
      },
      "source": [
        "np.random.randint(5,size = (3,3))"
      ],
      "execution_count": 41,
      "outputs": [
        {
          "output_type": "execute_result",
          "data": {
            "text/plain": [
              "array([[3, 1, 1],\n",
              "       [3, 4, 0],\n",
              "       [2, 2, 2]])"
            ]
          },
          "metadata": {
            "tags": []
          },
          "execution_count": 41
        }
      ]
    },
    {
      "cell_type": "markdown",
      "metadata": {
        "id": "eYUDu96u7Gld",
        "colab_type": "text"
      },
      "source": [
        "# Random vs. Random Normal Distribution"
      ]
    },
    {
      "cell_type": "markdown",
      "metadata": {
        "id": "J9J_VPW67NF1",
        "colab_type": "text"
      },
      "source": [
        "Uniform Random Distribution vs. Normal Distribution"
      ]
    },
    {
      "cell_type": "code",
      "metadata": {
        "id": "Kj9eT15E60pD",
        "colab_type": "code",
        "colab": {
          "base_uri": "https://localhost:8080/",
          "height": 214
        },
        "outputId": "be733c1f-fc2f-471a-ae7b-86e6b6d2f414"
      },
      "source": [
        "import matplotlib.pyplot as plt\n",
        "fig, axes = plt.subplots(1,2,figsize=(8,3))\n",
        "axes[0].hist(np.random.rand(1000))\n",
        "axes[1].hist(np.random.randn(1000))\n",
        "plt.show()"
      ],
      "execution_count": 42,
      "outputs": [
        {
          "output_type": "display_data",
          "data": {
            "image/png": "[encoded data removed]",
            "text/plain": [
              "<Figure size 576x216 with 2 Axes>"
            ]
          },
          "metadata": {
            "tags": []
          }
        }
      ]
    },
    {
      "cell_type": "markdown",
      "metadata": {
        "id": "_HxMr5Az8cx8",
        "colab_type": "text"
      },
      "source": [
        "# Sampling Data"
      ]
    },
    {
      "cell_type": "markdown",
      "metadata": {
        "id": "p93B5CyT8kC2",
        "colab_type": "text"
      },
      "source": [
        "Randomly choose 3 number range from 0 to 4"
      ]
    },
    {
      "cell_type": "code",
      "metadata": {
        "id": "Yp4cRow98ZVH",
        "colab_type": "code",
        "colab": {
          "base_uri": "https://localhost:8080/",
          "height": 34
        },
        "outputId": "69f66277-61c9-42fb-cce8-8d155e53bf16"
      },
      "source": [
        "np.random.choice(5,3,replace = False)"
      ],
      "execution_count": 43,
      "outputs": [
        {
          "output_type": "execute_result",
          "data": {
            "text/plain": [
              "array([2, 0, 1])"
            ]
          },
          "metadata": {
            "tags": []
          },
          "execution_count": 43
        }
      ]
    },
    {
      "cell_type": "markdown",
      "metadata": {
        "id": "GA_6QoMB809U",
        "colab_type": "text"
      },
      "source": [
        "Randomly choose 3 row from 0 to 4 into new matrix"
      ]
    },
    {
      "cell_type": "code",
      "metadata": {
        "id": "QTOKfUWv8x1o",
        "colab_type": "code",
        "colab": {
          "base_uri": "https://localhost:8080/",
          "height": 68
        },
        "outputId": "ab646abf-cc16-40e7-afa0-2f5d6bc6255c"
      },
      "source": [
        "np_matrix = np.random.rand(5,5)\n",
        "idx_choose = np.random.choice(5,3,replace = False)\n",
        "np_matrix_choose = np_matrix[idx_choose,:]\n",
        "np_matrix_choose"
      ],
      "execution_count": 45,
      "outputs": [
        {
          "output_type": "execute_result",
          "data": {
            "text/plain": [
              "array([[0.94839117, 0.74117999, 0.88852221, 0.65221409, 0.81874073],\n",
              "       [0.46541456, 0.77348391, 0.27601252, 0.68265835, 0.40556757],\n",
              "       [0.30124657, 0.31464085, 0.63699172, 0.77122142, 0.00343583]])"
            ]
          },
          "metadata": {
            "tags": []
          },
          "execution_count": 45
        }
      ]
    },
    {
      "cell_type": "markdown",
      "metadata": {
        "id": "yeAe8PEK9i4Q",
        "colab_type": "text"
      },
      "source": [
        "# Exercise 1"
      ]
    },
    {
      "cell_type": "code",
      "metadata": {
        "id": "u8KcPkNS-L4p",
        "colab_type": "code",
        "colab": {
          "base_uri": "https://localhost:8080/",
          "height": 187
        },
        "outputId": "1d3a78ae-8b38-4535-b71a-935ce936087d"
      },
      "source": [
        "a=np.random.rand(10,5)\n",
        "b=np.random.randint(2,size = (10))\n",
        "a[:,4]=b\n",
        "a"
      ],
      "execution_count": 119,
      "outputs": [
        {
          "output_type": "execute_result",
          "data": {
            "text/plain": [
              "array([[0.65467066, 0.7487387 , 0.64212171, 0.29386095, 1.        ],\n",
              "       [0.3978359 , 0.7291003 , 0.35464844, 0.51126834, 1.        ],\n",
              "       [0.41071964, 0.64716233, 0.15037621, 0.28746394, 1.        ],\n",
              "       [0.06089991, 0.6557447 , 0.62219828, 0.90970044, 1.        ],\n",
              "       [0.19134334, 0.27422498, 0.14370664, 0.10893479, 1.        ],\n",
              "       [0.00766832, 0.09233305, 0.48684217, 0.94754197, 0.        ],\n",
              "       [0.43669444, 0.17319609, 0.86182023, 0.65505606, 1.        ],\n",
              "       [0.89987394, 0.57368984, 0.20510016, 0.36978277, 1.        ],\n",
              "       [0.48535839, 0.83724691, 0.75245329, 0.02372161, 1.        ],\n",
              "       [0.44716281, 0.30222191, 0.85521457, 0.99107555, 0.        ]])"
            ]
          },
          "metadata": {
            "tags": []
          },
          "execution_count": 119
        }
      ]
    },
    {
      "cell_type": "code",
      "metadata": {
        "id": "ysxcZmYOJ_lt",
        "colab_type": "code",
        "colab": {
          "base_uri": "https://localhost:8080/",
          "height": 187
        },
        "outputId": "3ff78e30-0c0d-49ce-d7bf-3e0dec4d4958"
      },
      "source": [
        "a=np.random.rand(10,5)\n",
        "b=np.random.choice(2,10)\n",
        "a[:,4]=b\n",
        "a"
      ],
      "execution_count": 116,
      "outputs": [
        {
          "output_type": "execute_result",
          "data": {
            "text/plain": [
              "array([[0.31779324, 0.00541609, 0.63205042, 0.00367024, 1.        ],\n",
              "       [0.50917847, 0.25835722, 0.03730797, 0.26675048, 0.        ],\n",
              "       [0.49859715, 0.23302671, 0.69940817, 0.19568015, 0.        ],\n",
              "       [0.82170474, 0.82744306, 0.18360111, 0.05820788, 1.        ],\n",
              "       [0.40713411, 0.1781078 , 0.71498757, 0.78433373, 0.        ],\n",
              "       [0.53277142, 0.31216077, 0.19284695, 0.46495228, 1.        ],\n",
              "       [0.15208114, 0.22397922, 0.0638473 , 0.54809236, 0.        ],\n",
              "       [0.28804131, 0.99220996, 0.69795577, 0.89739415, 0.        ],\n",
              "       [0.00154113, 0.71847897, 0.01004179, 0.795952  , 0.        ],\n",
              "       [0.85034569, 0.89255177, 0.86249272, 0.30978802, 1.        ]])"
            ]
          },
          "metadata": {
            "tags": []
          },
          "execution_count": 116
        }
      ]
    },
    {
      "cell_type": "markdown",
      "metadata": {
        "id": "HC0SbbY9MgTM",
        "colab_type": "text"
      },
      "source": [
        "Create matrix of size (5,5) contains value from 0 to 10"
      ]
    },
    {
      "cell_type": "code",
      "metadata": {
        "id": "sWHNze6uL0mY",
        "colab_type": "code",
        "colab": {
          "base_uri": "https://localhost:8080/",
          "height": 102
        },
        "outputId": "357825ca-10c3-4a5d-f175-9438ff098dd0"
      },
      "source": [
        "np_matrix = np.random.randint(11,size = (5,5))\n",
        "np_matrix"
      ],
      "execution_count": 120,
      "outputs": [
        {
          "output_type": "execute_result",
          "data": {
            "text/plain": [
              "array([[ 1,  8,  1,  7, 10],\n",
              "       [ 7,  6,  8,  3,  9],\n",
              "       [10,  1,  1,  0,  1],\n",
              "       [ 6,  0,  2,  2, 10],\n",
              "       [ 8,  1,  4,  1,  9]])"
            ]
          },
          "metadata": {
            "tags": []
          },
          "execution_count": 120
        }
      ]
    },
    {
      "cell_type": "markdown",
      "metadata": {
        "id": "xywVBKIcM3Ec",
        "colab_type": "text"
      },
      "source": [
        "Delete rows 2 and 3 from this matrix"
      ]
    },
    {
      "cell_type": "code",
      "metadata": {
        "id": "WM4C-n9kM0Ow",
        "colab_type": "code",
        "colab": {
          "base_uri": "https://localhost:8080/",
          "height": 68
        },
        "outputId": "615ba92b-108f-4fe2-856c-e7f951361f17"
      },
      "source": [
        "np_matrix = np.delete(np_matrix,[1,2],0)\n",
        "np_matrix"
      ],
      "execution_count": 122,
      "outputs": [
        {
          "output_type": "execute_result",
          "data": {
            "text/plain": [
              "array([[ 1,  8,  1,  7, 10],\n",
              "       [ 6,  0,  2,  2, 10],\n",
              "       [ 8,  1,  4,  1,  9]])"
            ]
          },
          "metadata": {
            "tags": []
          },
          "execution_count": 122
        }
      ]
    },
    {
      "cell_type": "markdown",
      "metadata": {
        "id": "AoTL_e9GNObL",
        "colab_type": "text"
      },
      "source": [
        "Create matrix of size (5,5) contains value from 0 to 2"
      ]
    },
    {
      "cell_type": "code",
      "metadata": {
        "id": "buwCKdWqNFH6",
        "colab_type": "code",
        "colab": {
          "base_uri": "https://localhost:8080/",
          "height": 102
        },
        "outputId": "432498d8-5328-4a7b-8255-be7395f99287"
      },
      "source": [
        "np_matrix = np.random.randint(3,size = (5,5))\n",
        "np_matrix"
      ],
      "execution_count": 125,
      "outputs": [
        {
          "output_type": "execute_result",
          "data": {
            "text/plain": [
              "array([[2, 2, 2, 1, 1],\n",
              "       [2, 1, 0, 1, 2],\n",
              "       [2, 1, 0, 0, 0],\n",
              "       [1, 1, 2, 0, 0],\n",
              "       [1, 2, 1, 2, 1]])"
            ]
          },
          "metadata": {
            "tags": []
          },
          "execution_count": 125
        }
      ]
    },
    {
      "cell_type": "markdown",
      "metadata": {
        "id": "_3ekcSiKNzWE",
        "colab_type": "text"
      },
      "source": [
        "Find index of 2 from matrix\n",
        "** 2 อยู่ไหนใน matrix ,มันจะบอกเป็น ตำแหน่งเอา"
      ]
    },
    {
      "cell_type": "code",
      "metadata": {
        "id": "Np6L-Aq-NpVZ",
        "colab_type": "code",
        "colab": {
          "base_uri": "https://localhost:8080/",
          "height": 34
        },
        "outputId": "a7c558d3-2ff0-4701-896b-406a7562f6cd"
      },
      "source": [
        "result = np.where(np_matrix == 2)\n",
        "result"
      ],
      "execution_count": 126,
      "outputs": [
        {
          "output_type": "execute_result",
          "data": {
            "text/plain": [
              "(array([0, 0, 0, 1, 1, 2, 3, 4, 4]), array([0, 1, 2, 0, 4, 0, 2, 1, 3]))"
            ]
          },
          "metadata": {
            "tags": []
          },
          "execution_count": 126
        }
      ]
    },
    {
      "cell_type": "markdown",
      "metadata": {
        "id": "1nFHwv1NOo96",
        "colab_type": "text"
      },
      "source": [
        "Another way"
      ]
    },
    {
      "cell_type": "code",
      "metadata": {
        "id": "O1Nt4IMsN9xQ",
        "colab_type": "code",
        "colab": {
          "base_uri": "https://localhost:8080/",
          "height": 102
        },
        "outputId": "f921674e-ee7c-4ebb-8bec-42523a219f5f"
      },
      "source": [
        "result = (np_matrix == 2)\n",
        "result"
      ],
      "execution_count": 128,
      "outputs": [
        {
          "output_type": "execute_result",
          "data": {
            "text/plain": [
              "array([[ True,  True,  True, False, False],\n",
              "       [ True, False, False, False,  True],\n",
              "       [ True, False, False, False, False],\n",
              "       [False, False,  True, False, False],\n",
              "       [False,  True, False,  True, False]])"
            ]
          },
          "metadata": {
            "tags": []
          },
          "execution_count": 128
        }
      ]
    },
    {
      "cell_type": "markdown",
      "metadata": {
        "id": "dd0sSv-QO2gj",
        "colab_type": "text"
      },
      "source": [
        "Find and Replace Values"
      ]
    },
    {
      "cell_type": "code",
      "metadata": {
        "id": "tjr20Z8gOzjo",
        "colab_type": "code",
        "colab": {
          "base_uri": "https://localhost:8080/",
          "height": 102
        },
        "outputId": "49eed653-2731-4578-a8ec-552cc1ff79e8"
      },
      "source": [
        "np_matrix[result] = 99\n",
        "np_matrix"
      ],
      "execution_count": 130,
      "outputs": [
        {
          "output_type": "execute_result",
          "data": {
            "text/plain": [
              "array([[99, 99, 99,  1,  1],\n",
              "       [99,  1,  0,  1, 99],\n",
              "       [99,  1,  0,  0,  0],\n",
              "       [ 1,  1, 99,  0,  0],\n",
              "       [ 1, 99,  1, 99,  1]])"
            ]
          },
          "metadata": {
            "tags": []
          },
          "execution_count": 130
        }
      ]
    },
    {
      "cell_type": "markdown",
      "metadata": {
        "id": "thl2OGILPIe6",
        "colab_type": "text"
      },
      "source": [
        "# Exercise 2"
      ]
    },
    {
      "cell_type": "code",
      "metadata": {
        "id": "wWc5LgESO-aA",
        "colab_type": "code",
        "colab": {
          "base_uri": "https://localhost:8080/",
          "height": 187
        },
        "outputId": "607ba198-495f-46f2-9f77-2fe6dee88c6c"
      },
      "source": [
        "a=np.random.rand(10,5)\n",
        "a\n",
        "\n"
      ],
      "execution_count": 187,
      "outputs": [
        {
          "output_type": "execute_result",
          "data": {
            "text/plain": [
              "array([[0.9653394 , 0.03115405, 0.50750634, 0.2682735 , 0.51718335],\n",
              "       [0.7050553 , 0.16696117, 0.29271976, 0.34541701, 0.38347612],\n",
              "       [0.18642583, 0.8825647 , 0.66940749, 0.21649229, 0.88562256],\n",
              "       [0.95823972, 0.70332691, 0.7238101 , 0.71982124, 0.52579218],\n",
              "       [0.00643691, 0.93958281, 0.17584653, 0.79041366, 0.04031559],\n",
              "       [0.4648039 , 0.0902902 , 0.24020715, 0.20539769, 0.42199214],\n",
              "       [0.86351725, 0.90880442, 0.55780694, 0.74870279, 0.77934355],\n",
              "       [0.03911124, 0.90916331, 0.97628131, 0.66521257, 0.43950393],\n",
              "       [0.58504642, 0.23031783, 0.84829769, 0.51303918, 0.66345624],\n",
              "       [0.97583226, 0.52908011, 0.2647743 , 0.57519101, 0.56516236]])"
            ]
          },
          "metadata": {
            "tags": []
          },
          "execution_count": 187
        }
      ]
    },
    {
      "cell_type": "code",
      "metadata": {
        "id": "h_KKd4aYQQeX",
        "colab_type": "code",
        "colab": {
          "base_uri": "https://localhost:8080/",
          "height": 34
        },
        "outputId": "ef3b1faf-9ad8-48c0-d9fe-6a02984b2fd0"
      },
      "source": [
        "b=np.random.choice(3,10)\n",
        "b\n"
      ],
      "execution_count": 179,
      "outputs": [
        {
          "output_type": "execute_result",
          "data": {
            "text/plain": [
              "array([1, 2, 2, 1, 2, 1, 1, 2, 1, 0])"
            ]
          },
          "metadata": {
            "tags": []
          },
          "execution_count": 179
        }
      ]
    },
    {
      "cell_type": "code",
      "metadata": {
        "id": "3Yqrh_3oUpNN",
        "colab_type": "code",
        "colab": {
          "base_uri": "https://localhost:8080/",
          "height": 34
        },
        "outputId": "ef7ca78b-09f8-41d6-8c23-3e2eeaab3899"
      },
      "source": [
        "c=np.where(b==2)\n",
        "c"
      ],
      "execution_count": 183,
      "outputs": [
        {
          "output_type": "execute_result",
          "data": {
            "text/plain": [
              "(array([1, 2, 4, 7]),)"
            ]
          },
          "metadata": {
            "tags": []
          },
          "execution_count": 183
        }
      ]
    },
    {
      "cell_type": "code",
      "metadata": {
        "id": "vS4JP2RFUqQi",
        "colab_type": "code",
        "colab": {
          "base_uri": "https://localhost:8080/",
          "height": 85
        },
        "outputId": "ea6d87fe-b03b-4c42-a509-4f0cc8241f2b"
      },
      "source": [
        "result = a[c]\n",
        "result\n"
      ],
      "execution_count": 196,
      "outputs": [
        {
          "output_type": "execute_result",
          "data": {
            "text/plain": [
              "array([[0.7050553 , 0.16696117, 0.29271976, 0.34541701, 0.38347612],\n",
              "       [0.18642583, 0.8825647 , 0.66940749, 0.21649229, 0.88562256],\n",
              "       [0.00643691, 0.93958281, 0.17584653, 0.79041366, 0.04031559],\n",
              "       [0.03911124, 0.90916331, 0.97628131, 0.66521257, 0.43950393]])"
            ]
          },
          "metadata": {
            "tags": []
          },
          "execution_count": 196
        }
      ]
    },
    {
      "cell_type": "code",
      "metadata": {
        "id": "J-jdEOGCU7Xp",
        "colab_type": "code",
        "colab": {}
      },
      "source": [
        ""
      ],
      "execution_count": 0,
      "outputs": []
    }
  ]
}
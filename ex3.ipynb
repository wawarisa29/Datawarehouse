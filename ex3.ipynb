{
  "nbformat": 4,
  "nbformat_minor": 0,
  "metadata": {
    "colab": {
      "name": "Copy of Hellow_world.ipynb",
      "provenance": [],
      "include_colab_link": true
    },
    "kernelspec": {
      "name": "python3",
      "display_name": "Python 3"
    }
  },
  "cells": [
    {
      "cell_type": "markdown",
      "metadata": {
        "id": "view-in-github",
        "colab_type": "text"
      },
      "source": [
        "<a href=\"https://colab.research.google.com/github/wawarisa29/Datawarehouse/blob/master/ex3.ipynb\" target=\"_parent\"><img src=\"https://colab.research.google.com/assets/colab-badge.svg\" alt=\"Open In Colab\"/></a>"
      ]
    },
    {
      "cell_type": "markdown",
      "metadata": {
        "id": "Dse59YBniULH",
        "colab_type": "text"
      },
      "source": [
        "# Hello PyYhon\n",
        "## Hello Python\n",
        "### Hello Python\n",
        "This is my first PyThon Program\n"
      ]
    },
    {
      "cell_type": "code",
      "metadata": {
        "id": "RM6Rt_Kqh47J",
        "colab_type": "code",
        "outputId": "36e57bcc-f972-400f-b496-cd71a932e495",
        "colab": {
          "base_uri": "https://localhost:8080/",
          "height": 34
        }
      },
      "source": [
        "print(\"Hello World\")"
      ],
      "execution_count": 0,
      "outputs": [
        {
          "output_type": "stream",
          "text": [
            "Hello World\n"
          ],
          "name": "stdout"
        }
      ]
    },
    {
      "cell_type": "code",
      "metadata": {
        "id": "frucKiRqi9Jq",
        "colab_type": "code",
        "colab": {}
      },
      "source": [
        ""
      ],
      "execution_count": 0,
      "outputs": []
    },
    {
      "cell_type": "markdown",
      "metadata": {
        "id": "CuEweQrCjL_V",
        "colab_type": "text"
      },
      "source": [
        "#Declare Variable\n",
        "How to declare variable in PyThon\n",
        "- str(score) change score to string\n",
        "- name = Phasit\n",
        "  +name+   change variable to string"
      ]
    },
    {
      "cell_type": "code",
      "metadata": {
        "id": "xC3mZlw-jQFz",
        "colab_type": "code",
        "outputId": "4443d302-5a55-4ecc-a90d-7885bf419726",
        "colab": {
          "base_uri": "https://localhost:8080/",
          "height": 34
        }
      },
      "source": [
        "score = 100\n",
        "name = \"Phasit\"\n",
        "print(\" Name is \"+ name + \" score is \"+ str(score))"
      ],
      "execution_count": 0,
      "outputs": [
        {
          "output_type": "stream",
          "text": [
            " Name is Phasit score is 100\n"
          ],
          "name": "stdout"
        }
      ]
    },
    {
      "cell_type": "code",
      "metadata": {
        "id": "Yn4gq_Klju1a",
        "colab_type": "code",
        "outputId": "ef583e93-9f92-428a-b3d8-6bf781d76ded",
        "colab": {
          "base_uri": "https://localhost:8080/",
          "height": 34
        }
      },
      "source": [
        "a = 2\n",
        "b = 3\n",
        "c = a * b \n",
        "print(c)"
      ],
      "execution_count": 0,
      "outputs": [
        {
          "output_type": "stream",
          "text": [
            "6\n"
          ],
          "name": "stdout"
        }
      ]
    },
    {
      "cell_type": "markdown",
      "metadata": {
        "id": "P06ghBsMmvm7",
        "colab_type": "text"
      },
      "source": [
        "# List \n",
        "How to use list in python \n",
        "\n"
      ]
    },
    {
      "cell_type": "code",
      "metadata": {
        "id": "bWQVNyAakUma",
        "colab_type": "code",
        "outputId": "0d91350d-35f5-446e-d7a2-91cea24e45ce",
        "colab": {
          "base_uri": "https://localhost:8080/",
          "height": 34
        }
      },
      "source": [
        "mylist = []\n",
        "mylist.append(\"Phasit\")\n",
        "mylist.append(200)\n",
        "mylist"
      ],
      "execution_count": 0,
      "outputs": [
        {
          "output_type": "execute_result",
          "data": {
            "text/plain": [
              "['Phasit', 200]"
            ]
          },
          "metadata": {
            "tags": []
          },
          "execution_count": 4
        }
      ]
    },
    {
      "cell_type": "markdown",
      "metadata": {
        "id": "o52XHtFenLmA",
        "colab_type": "text"
      },
      "source": [
        "How to count data in list"
      ]
    },
    {
      "cell_type": "code",
      "metadata": {
        "id": "xZ1aPNLLnJCd",
        "colab_type": "code",
        "outputId": "cbe2a7aa-86d2-44b2-8b14-dfbc14195012",
        "colab": {
          "base_uri": "https://localhost:8080/",
          "height": 34
        }
      },
      "source": [
        "len(mylist)"
      ],
      "execution_count": 0,
      "outputs": [
        {
          "output_type": "execute_result",
          "data": {
            "text/plain": [
              "2"
            ]
          },
          "metadata": {
            "tags": []
          },
          "execution_count": 5
        }
      ]
    },
    {
      "cell_type": "markdown",
      "metadata": {
        "id": "DhP6f3j_nxW3",
        "colab_type": "text"
      },
      "source": [
        "# if else PyThon\n",
        "How to use if else in python"
      ]
    },
    {
      "cell_type": "code",
      "metadata": {
        "id": "WHcl4IohnWg4",
        "colab_type": "code",
        "outputId": "2e7af85b-4a66-469f-88f2-22087100f2d6",
        "colab": {
          "base_uri": "https://localhost:8080/",
          "height": 34
        }
      },
      "source": [
        "if mylist[1] > 100 :\n",
        "  print(\"Pass\")"
      ],
      "execution_count": 0,
      "outputs": [
        {
          "output_type": "stream",
          "text": [
            "Pass\n"
          ],
          "name": "stdout"
        }
      ]
    },
    {
      "cell_type": "code",
      "metadata": {
        "id": "WjeQShXCoKO-",
        "colab_type": "code",
        "outputId": "daada2cc-b19f-4e44-ec16-ad884d3d7627",
        "colab": {
          "base_uri": "https://localhost:8080/",
          "height": 34
        }
      },
      "source": [
        "if mylist[1] > 100 :\n",
        "  name = mylist[0]\n",
        "  score = mylist[1]\n",
        "  print(name+\" \"+str(score))\n",
        "elif mylist[1] > 200 :\n",
        "  print(\"Very Pass\")\n",
        "else:\n",
        "  print(\"Super Pass\")"
      ],
      "execution_count": 0,
      "outputs": [
        {
          "output_type": "stream",
          "text": [
            "Phasit 200\n"
          ],
          "name": "stdout"
        }
      ]
    },
    {
      "cell_type": "markdown",
      "metadata": {
        "id": "Lm4aLnhHqQIm",
        "colab_type": "text"
      },
      "source": [
        "# For loop in PyThon"
      ]
    },
    {
      "cell_type": "code",
      "metadata": {
        "id": "Wszs8UpapBel",
        "colab_type": "code",
        "outputId": "75595a00-8fa3-400c-8b34-273011e2ffab",
        "colab": {
          "base_uri": "https://localhost:8080/",
          "height": 204
        }
      },
      "source": [
        "summation = 0\n",
        "for i in range(0,10):\n",
        "  print(str(i))\n",
        "  summation = summation + 1\n",
        "print(\" The summation result is \" + str(summation))"
      ],
      "execution_count": 0,
      "outputs": [
        {
          "output_type": "stream",
          "text": [
            "0\n",
            "1\n",
            "2\n",
            "3\n",
            "4\n",
            "5\n",
            "6\n",
            "7\n",
            "8\n",
            "9\n",
            " The summation result is 10\n"
          ],
          "name": "stdout"
        }
      ]
    },
    {
      "cell_type": "code",
      "metadata": {
        "id": "DHYeaigMrBEw",
        "colab_type": "code",
        "outputId": "85e3a68f-77ad-4dff-d3ae-63dec37b581a",
        "colab": {
          "base_uri": "https://localhost:8080/",
          "height": 187
        }
      },
      "source": [
        "summation = []\n",
        "for i in range(0,10):\n",
        "  summation.append(i)\n",
        "\n",
        "for i in summation:\n",
        "  print(str(i))"
      ],
      "execution_count": 0,
      "outputs": [
        {
          "output_type": "stream",
          "text": [
            "0\n",
            "1\n",
            "2\n",
            "3\n",
            "4\n",
            "5\n",
            "6\n",
            "7\n",
            "8\n",
            "9\n"
          ],
          "name": "stdout"
        }
      ]
    },
    {
      "cell_type": "markdown",
      "metadata": {
        "id": "2QIUPKgUstcT",
        "colab_type": "text"
      },
      "source": [
        "Below \n",
        "i 10 round\n",
        "a is a+5 OK Naa"
      ]
    },
    {
      "cell_type": "code",
      "metadata": {
        "id": "SBDEDMfYrZkj",
        "colab_type": "code",
        "outputId": "d24a3d71-825a-4693-986f-752a0cfb3d49",
        "colab": {
          "base_uri": "https://localhost:8080/",
          "height": 187
        }
      },
      "source": [
        "summation = []\n",
        "a = 0\n",
        "for i in range(0,10):\n",
        "  a = a + 5\n",
        "  summation.append(a)\n",
        "\n",
        "for i in summation:\n",
        "  print(str(i))"
      ],
      "execution_count": 0,
      "outputs": [
        {
          "output_type": "stream",
          "text": [
            "5\n",
            "10\n",
            "15\n",
            "20\n",
            "25\n",
            "30\n",
            "35\n",
            "40\n",
            "45\n",
            "50\n"
          ],
          "name": "stdout"
        }
      ]
    },
    {
      "cell_type": "code",
      "metadata": {
        "id": "vD2lhTB7sj5C",
        "colab_type": "code",
        "outputId": "8fc1e26c-ad9e-4be3-89ec-bf3d640102e4",
        "colab": {
          "base_uri": "https://localhost:8080/",
          "height": 187
        }
      },
      "source": [
        "summation = []\n",
        "a = 0\n",
        "for i in range(0,10):\n",
        "  a = a + 5\n",
        "  summation.append(a)\n",
        "\n",
        "for i in summation:\n",
        "  print(str(a))"
      ],
      "execution_count": 0,
      "outputs": [
        {
          "output_type": "stream",
          "text": [
            "50\n",
            "50\n",
            "50\n",
            "50\n",
            "50\n",
            "50\n",
            "50\n",
            "50\n",
            "50\n",
            "50\n"
          ],
          "name": "stdout"
        }
      ]
    },
    {
      "cell_type": "markdown",
      "metadata": {
        "id": "oYnOh0BYvaYY",
        "colab_type": "text"
      },
      "source": [
        "# NumPy"
      ]
    },
    {
      "cell_type": "markdown",
      "metadata": {
        "id": "pQ41MX-wwWDo",
        "colab_type": "text"
      },
      "source": [
        "Load numpy library"
      ]
    },
    {
      "cell_type": "code",
      "metadata": {
        "id": "PRN62CnJtkiW",
        "colab_type": "code",
        "colab": {}
      },
      "source": [
        "import numpy as np"
      ],
      "execution_count": 0,
      "outputs": []
    },
    {
      "cell_type": "markdown",
      "metadata": {
        "id": "rdDnzeygwppH",
        "colab_type": "text"
      },
      "source": [
        "Create array in numpy"
      ]
    },
    {
      "cell_type": "code",
      "metadata": {
        "id": "GztQjK0FvpHE",
        "colab_type": "code",
        "outputId": "959d2f05-ad11-42f7-d158-14aa767e7f64",
        "colab": {
          "base_uri": "https://localhost:8080/",
          "height": 34
        }
      },
      "source": [
        "l = [1,2,3,4,5]\n",
        "np_array = np.array(1)\n",
        "type(np_array)"
      ],
      "execution_count": 0,
      "outputs": [
        {
          "output_type": "execute_result",
          "data": {
            "text/plain": [
              "numpy.ndarray"
            ]
          },
          "metadata": {
            "tags": []
          },
          "execution_count": 13
        }
      ]
    },
    {
      "cell_type": "markdown",
      "metadata": {
        "id": "WwjQPmezw-wK",
        "colab_type": "text"
      },
      "source": [
        "Create Matrix in Array format"
      ]
    },
    {
      "cell_type": "code",
      "metadata": {
        "id": "mbssXslZw5UK",
        "colab_type": "code",
        "outputId": "a190adfb-49e8-4932-a3f2-0350efd628c9",
        "colab": {
          "base_uri": "https://localhost:8080/",
          "height": 68
        }
      },
      "source": [
        "np_matrix = np.array([[1,2],[3,4],[5,6]])\n",
        "np_matrix"
      ],
      "execution_count": 0,
      "outputs": [
        {
          "output_type": "execute_result",
          "data": {
            "text/plain": [
              "array([[1, 2],\n",
              "       [3, 4],\n",
              "       [5, 6]])"
            ]
          },
          "metadata": {
            "tags": []
          },
          "execution_count": 14
        }
      ]
    },
    {
      "cell_type": "markdown",
      "metadata": {
        "id": "J_s4VLUrx4q3",
        "colab_type": "text"
      },
      "source": [
        "Check the dimension of this matrix"
      ]
    },
    {
      "cell_type": "code",
      "metadata": {
        "id": "SYa86oYCxnVt",
        "colab_type": "code",
        "outputId": "3dcbbb6b-db44-4754-ba88-3f84de7bb9e0",
        "colab": {
          "base_uri": "https://localhost:8080/",
          "height": 34
        }
      },
      "source": [
        "np.size(np_matrix,0)"
      ],
      "execution_count": 0,
      "outputs": [
        {
          "output_type": "execute_result",
          "data": {
            "text/plain": [
              "3"
            ]
          },
          "metadata": {
            "tags": []
          },
          "execution_count": 15
        }
      ]
    },
    {
      "cell_type": "code",
      "metadata": {
        "id": "BKi1oy3kyC6c",
        "colab_type": "code",
        "outputId": "a53815cd-c243-4a1b-826d-dd9eeb3656f5",
        "colab": {
          "base_uri": "https://localhost:8080/",
          "height": 34
        }
      },
      "source": [
        "np.size(np_matrix,1)"
      ],
      "execution_count": 0,
      "outputs": [
        {
          "output_type": "execute_result",
          "data": {
            "text/plain": [
              "2"
            ]
          },
          "metadata": {
            "tags": []
          },
          "execution_count": 16
        }
      ]
    },
    {
      "cell_type": "markdown",
      "metadata": {
        "id": "2p9svtvZypet",
        "colab_type": "text"
      },
      "source": [
        "Check other matrix properties"
      ]
    },
    {
      "cell_type": "code",
      "metadata": {
        "id": "Ff9hADe9yM7U",
        "colab_type": "code",
        "outputId": "343cf89a-d9c5-4b3b-d401-9b66189323ae",
        "colab": {
          "base_uri": "https://localhost:8080/",
          "height": 34
        }
      },
      "source": [
        "np_matrix.shape"
      ],
      "execution_count": 0,
      "outputs": [
        {
          "output_type": "execute_result",
          "data": {
            "text/plain": [
              "(3, 2)"
            ]
          },
          "metadata": {
            "tags": []
          },
          "execution_count": 17
        }
      ]
    },
    {
      "cell_type": "code",
      "metadata": {
        "id": "mVbzOHT8y3_O",
        "colab_type": "code",
        "outputId": "66eaa0df-99d7-41e0-f344-220a3953e27c",
        "colab": {
          "base_uri": "https://localhost:8080/",
          "height": 34
        }
      },
      "source": [
        "np_matrix.ndim"
      ],
      "execution_count": 0,
      "outputs": [
        {
          "output_type": "execute_result",
          "data": {
            "text/plain": [
              "2"
            ]
          },
          "metadata": {
            "tags": []
          },
          "execution_count": 18
        }
      ]
    },
    {
      "cell_type": "code",
      "metadata": {
        "id": "K8A8U54x0m2a",
        "colab_type": "code",
        "outputId": "3a0ea874-acb3-4112-bd8b-8442f86b3ecb",
        "colab": {
          "base_uri": "https://localhost:8080/",
          "height": 34
        }
      },
      "source": [
        "np_matrix.size"
      ],
      "execution_count": 0,
      "outputs": [
        {
          "output_type": "execute_result",
          "data": {
            "text/plain": [
              "6"
            ]
          },
          "metadata": {
            "tags": []
          },
          "execution_count": 19
        }
      ]
    },
    {
      "cell_type": "markdown",
      "metadata": {
        "id": "5PbcniB70tby",
        "colab_type": "text"
      },
      "source": [
        "# Matrix can be mix type(auto casting)"
      ]
    },
    {
      "cell_type": "markdown",
      "metadata": {
        "id": "gojjFiAz1Fjz",
        "colab_type": "text"
      },
      "source": [
        "Create Matrix with Mix Data Type"
      ]
    },
    {
      "cell_type": "code",
      "metadata": {
        "id": "HVTxGB2W0qZK",
        "colab_type": "code",
        "colab": {}
      },
      "source": [
        "np_mix_matrix = np.array([['one',2],['three',4],['five',6]])"
      ],
      "execution_count": 0,
      "outputs": []
    },
    {
      "cell_type": "code",
      "metadata": {
        "id": "hyA5-2JB1hDO",
        "colab_type": "code",
        "outputId": "06ac5ade-0cab-4cb2-b547-1059648daa09",
        "colab": {
          "base_uri": "https://localhost:8080/",
          "height": 68
        }
      },
      "source": [
        "np_mix_matrix"
      ],
      "execution_count": 0,
      "outputs": [
        {
          "output_type": "execute_result",
          "data": {
            "text/plain": [
              "array([['one', '2'],\n",
              "       ['three', '4'],\n",
              "       ['five', '6']], dtype='<U5')"
            ]
          },
          "metadata": {
            "tags": []
          },
          "execution_count": 21
        }
      ]
    },
    {
      "cell_type": "markdown",
      "metadata": {
        "id": "7nQ_ehMH18RS",
        "colab_type": "text"
      },
      "source": [
        "Access matrix element"
      ]
    },
    {
      "cell_type": "code",
      "metadata": {
        "id": "2TNja3So1mfp",
        "colab_type": "code",
        "outputId": "30af93ee-5112-43d2-c24e-a0743a003816",
        "colab": {
          "base_uri": "https://localhost:8080/",
          "height": 34
        }
      },
      "source": [
        "np_mix_matrix[0,1]"
      ],
      "execution_count": 0,
      "outputs": [
        {
          "output_type": "execute_result",
          "data": {
            "text/plain": [
              "'2'"
            ]
          },
          "metadata": {
            "tags": []
          },
          "execution_count": 22
        }
      ]
    },
    {
      "cell_type": "markdown",
      "metadata": {
        "id": "yDbLjm5P2Yg6",
        "colab_type": "text"
      },
      "source": [
        "Access all column of matrix"
      ]
    },
    {
      "cell_type": "code",
      "metadata": {
        "id": "BIQQa6D92IAn",
        "colab_type": "code",
        "outputId": "47771482-42ba-47d3-b877-0235f55edc12",
        "colab": {
          "base_uri": "https://localhost:8080/",
          "height": 34
        }
      },
      "source": [
        "np_mix_matrix[:,0]"
      ],
      "execution_count": 0,
      "outputs": [
        {
          "output_type": "execute_result",
          "data": {
            "text/plain": [
              "array(['one', 'three', 'five'], dtype='<U5')"
            ]
          },
          "metadata": {
            "tags": []
          },
          "execution_count": 23
        }
      ]
    },
    {
      "cell_type": "markdown",
      "metadata": {
        "id": "GFJnYXFD235j",
        "colab_type": "text"
      },
      "source": [
        "Access all row of matrix"
      ]
    },
    {
      "cell_type": "code",
      "metadata": {
        "id": "_cMNn4322oJw",
        "colab_type": "code",
        "outputId": "2d0f2c6a-b73b-4e48-d092-371570976c56",
        "colab": {
          "base_uri": "https://localhost:8080/",
          "height": 34
        }
      },
      "source": [
        "np_mix_matrix[0,]"
      ],
      "execution_count": 0,
      "outputs": [
        {
          "output_type": "execute_result",
          "data": {
            "text/plain": [
              "array(['one', '2'], dtype='<U5')"
            ]
          },
          "metadata": {
            "tags": []
          },
          "execution_count": 24
        }
      ]
    },
    {
      "cell_type": "markdown",
      "metadata": {
        "id": "dSq2zt_D4JXf",
        "colab_type": "text"
      },
      "source": [
        "32  0 all"
      ]
    },
    {
      "cell_type": "markdown",
      "metadata": {
        "id": "RbIQh_uF3E7h",
        "colab_type": "text"
      },
      "source": [
        "Access element from row 0 to row 1"
      ]
    },
    {
      "cell_type": "code",
      "metadata": {
        "id": "RRt_aZe_3AdY",
        "colab_type": "code",
        "outputId": "b0f4f067-2481-4f76-ec13-97e567f798e6",
        "colab": {
          "base_uri": "https://localhost:8080/",
          "height": 51
        }
      },
      "source": [
        "np_mix_matrix[0:2,]"
      ],
      "execution_count": 0,
      "outputs": [
        {
          "output_type": "execute_result",
          "data": {
            "text/plain": [
              "array([['one', '2'],\n",
              "       ['three', '4']], dtype='<U5')"
            ]
          },
          "metadata": {
            "tags": []
          },
          "execution_count": 25
        }
      ]
    },
    {
      "cell_type": "markdown",
      "metadata": {
        "id": "lfBYI7mj4RLa",
        "colab_type": "text"
      },
      "source": [
        "Type casting ndarray object"
      ]
    },
    {
      "cell_type": "code",
      "metadata": {
        "id": "n7-SXGeY4G1d",
        "colab_type": "code",
        "outputId": "6068a83b-341e-4808-8aae-1b8c0415f7d1",
        "colab": {
          "base_uri": "https://localhost:8080/",
          "height": 34
        }
      },
      "source": [
        "np.array(np_mix_matrix[:,1],dtype = int)"
      ],
      "execution_count": 0,
      "outputs": [
        {
          "output_type": "execute_result",
          "data": {
            "text/plain": [
              "array([2, 4, 6])"
            ]
          },
          "metadata": {
            "tags": []
          },
          "execution_count": 26
        }
      ]
    },
    {
      "cell_type": "markdown",
      "metadata": {
        "id": "OFHb2WEG4yWv",
        "colab_type": "text"
      },
      "source": [
        "Create matrix of zeros\n"
      ]
    },
    {
      "cell_type": "code",
      "metadata": {
        "id": "aH5J_DD-4k0T",
        "colab_type": "code",
        "outputId": "2ea66ac9-1424-4194-8760-7c500ef9caa8",
        "colab": {
          "base_uri": "https://localhost:8080/",
          "height": 51
        }
      },
      "source": [
        "np.zeros([2,3])"
      ],
      "execution_count": 0,
      "outputs": [
        {
          "output_type": "execute_result",
          "data": {
            "text/plain": [
              "array([[0., 0., 0.],\n",
              "       [0., 0., 0.]])"
            ]
          },
          "metadata": {
            "tags": []
          },
          "execution_count": 27
        }
      ]
    },
    {
      "cell_type": "markdown",
      "metadata": {
        "id": "M5ckui785NoW",
        "colab_type": "text"
      },
      "source": [
        "Create matrix of ones"
      ]
    },
    {
      "cell_type": "code",
      "metadata": {
        "id": "gytgpZS55HkV",
        "colab_type": "code",
        "outputId": "6211afe2-26d1-4208-ce23-428fa238872f",
        "colab": {
          "base_uri": "https://localhost:8080/",
          "height": 102
        }
      },
      "source": [
        "np.ones([5,5])"
      ],
      "execution_count": 0,
      "outputs": [
        {
          "output_type": "execute_result",
          "data": {
            "text/plain": [
              "array([[1., 1., 1., 1., 1.],\n",
              "       [1., 1., 1., 1., 1.],\n",
              "       [1., 1., 1., 1., 1.],\n",
              "       [1., 1., 1., 1., 1.],\n",
              "       [1., 1., 1., 1., 1.]])"
            ]
          },
          "metadata": {
            "tags": []
          },
          "execution_count": 28
        }
      ]
    },
    {
      "cell_type": "markdown",
      "metadata": {
        "id": "LAakhHRX5XDu",
        "colab_type": "text"
      },
      "source": [
        "Create Eye Matrix"
      ]
    },
    {
      "cell_type": "code",
      "metadata": {
        "id": "HfK7SzTn5VKd",
        "colab_type": "code",
        "outputId": "124e51b5-b1e7-4996-c27e-601d13836767",
        "colab": {
          "base_uri": "https://localhost:8080/",
          "height": 102
        }
      },
      "source": [
        "np.eye(5)"
      ],
      "execution_count": 0,
      "outputs": [
        {
          "output_type": "execute_result",
          "data": {
            "text/plain": [
              "array([[1., 0., 0., 0., 0.],\n",
              "       [0., 1., 0., 0., 0.],\n",
              "       [0., 0., 1., 0., 0.],\n",
              "       [0., 0., 0., 1., 0.],\n",
              "       [0., 0., 0., 0., 1.]])"
            ]
          },
          "metadata": {
            "tags": []
          },
          "execution_count": 29
        }
      ]
    },
    {
      "cell_type": "markdown",
      "metadata": {
        "id": "IFf9ZT1S5dyv",
        "colab_type": "text"
      },
      "source": [
        "Create Empty Matrix"
      ]
    },
    {
      "cell_type": "code",
      "metadata": {
        "id": "2oURnCPA5cVU",
        "colab_type": "code",
        "outputId": "567a235b-02bf-4d7a-be74-d10fbb72661d",
        "colab": {
          "base_uri": "https://localhost:8080/",
          "height": 102
        }
      },
      "source": [
        "np.empty([5,5])"
      ],
      "execution_count": 0,
      "outputs": [
        {
          "output_type": "execute_result",
          "data": {
            "text/plain": [
              "array([[1., 0., 0., 0., 0.],\n",
              "       [0., 1., 0., 0., 0.],\n",
              "       [0., 0., 1., 0., 0.],\n",
              "       [0., 0., 0., 1., 0.],\n",
              "       [0., 0., 0., 0., 1.]])"
            ]
          },
          "metadata": {
            "tags": []
          },
          "execution_count": 30
        }
      ]
    },
    {
      "cell_type": "markdown",
      "metadata": {
        "id": "RZd1hAs566s_",
        "colab_type": "text"
      },
      "source": [
        "# Generate Random Matrix"
      ]
    },
    {
      "cell_type": "markdown",
      "metadata": {
        "id": "Xng1dA1i6Jag",
        "colab_type": "text"
      },
      "source": [
        "Random matrix of size = (5,5)"
      ]
    },
    {
      "cell_type": "code",
      "metadata": {
        "id": "l_aitnVJ5oiN",
        "colab_type": "code",
        "outputId": "910eaf7a-4781-4273-d0c5-9d6f1bb7206d",
        "colab": {
          "base_uri": "https://localhost:8080/",
          "height": 102
        }
      },
      "source": [
        "np.random.rand(5,5)"
      ],
      "execution_count": 0,
      "outputs": [
        {
          "output_type": "execute_result",
          "data": {
            "text/plain": [
              "array([[0.69869083, 0.55235592, 0.24633817, 0.53452773, 0.26192098],\n",
              "       [0.26246899, 0.62400848, 0.55984339, 0.13757548, 0.04285274],\n",
              "       [0.52081792, 0.07301025, 0.10027901, 0.58803675, 0.55150042],\n",
              "       [0.56348256, 0.08238001, 0.15434582, 0.70481583, 0.73371349],\n",
              "       [0.64872416, 0.03448013, 0.07533749, 0.70271908, 0.55529128]])"
            ]
          },
          "metadata": {
            "tags": []
          },
          "execution_count": 31
        }
      ]
    },
    {
      "cell_type": "markdown",
      "metadata": {
        "id": "QvlRfTYo6X7f",
        "colab_type": "text"
      },
      "source": [
        "Random matrix of size = 3,3 having value between 0 to 4"
      ]
    },
    {
      "cell_type": "code",
      "metadata": {
        "id": "wXH_C2ss6Upk",
        "colab_type": "code",
        "outputId": "47c41e86-d433-4e76-fd05-6d4b13ff0c41",
        "colab": {
          "base_uri": "https://localhost:8080/",
          "height": 68
        }
      },
      "source": [
        "np.random.randint(5,size = (3,3))"
      ],
      "execution_count": 0,
      "outputs": [
        {
          "output_type": "execute_result",
          "data": {
            "text/plain": [
              "array([[3, 1, 3],\n",
              "       [2, 2, 4],\n",
              "       [4, 3, 0]])"
            ]
          },
          "metadata": {
            "tags": []
          },
          "execution_count": 32
        }
      ]
    },
    {
      "cell_type": "markdown",
      "metadata": {
        "id": "eYUDu96u7Gld",
        "colab_type": "text"
      },
      "source": [
        "# Random vs. Random Normal Distribution"
      ]
    },
    {
      "cell_type": "markdown",
      "metadata": {
        "id": "J9J_VPW67NF1",
        "colab_type": "text"
      },
      "source": [
        "Uniform Random Distribution vs. Normal Distribution"
      ]
    },
    {
      "cell_type": "markdown",
      "metadata": {
        "id": "T23wC1iGng-A",
        "colab_type": "text"
      },
      "source": [
        ""
      ]
    },
    {
      "cell_type": "markdown",
      "metadata": {
        "id": "_HxMr5Az8cx8",
        "colab_type": "text"
      },
      "source": [
        "# Sampling Data"
      ]
    },
    {
      "cell_type": "markdown",
      "metadata": {
        "id": "p93B5CyT8kC2",
        "colab_type": "text"
      },
      "source": [
        "Randomly choose 3 number range from 0 to 4"
      ]
    },
    {
      "cell_type": "code",
      "metadata": {
        "id": "Yp4cRow98ZVH",
        "colab_type": "code",
        "outputId": "c1d093ab-486c-4f38-e25e-3438e265c6c6",
        "colab": {
          "base_uri": "https://localhost:8080/",
          "height": 34
        }
      },
      "source": [
        "np.random.choice(5,3,replace = False)"
      ],
      "execution_count": 0,
      "outputs": [
        {
          "output_type": "execute_result",
          "data": {
            "text/plain": [
              "array([1, 2, 0])"
            ]
          },
          "metadata": {
            "tags": []
          },
          "execution_count": 33
        }
      ]
    },
    {
      "cell_type": "markdown",
      "metadata": {
        "id": "GA_6QoMB809U",
        "colab_type": "text"
      },
      "source": [
        "Randomly choose 3 row from 0 to 4 into new matrix"
      ]
    },
    {
      "cell_type": "code",
      "metadata": {
        "id": "QTOKfUWv8x1o",
        "colab_type": "code",
        "outputId": "a42d0fc0-a97b-4e08-d793-2b641ee627ae",
        "colab": {
          "base_uri": "https://localhost:8080/",
          "height": 68
        }
      },
      "source": [
        "np_matrix = np.random.rand(5,5)\n",
        "idx_choose = np.random.choice(5,3,replace = False)\n",
        "np_matrix_choose = np_matrix[idx_choose,:]\n",
        "np_matrix_choose"
      ],
      "execution_count": 0,
      "outputs": [
        {
          "output_type": "execute_result",
          "data": {
            "text/plain": [
              "array([[0.60002518, 0.91140324, 0.21433571, 0.89956416, 0.88395931],\n",
              "       [0.92250268, 0.81246669, 0.33691036, 0.63399439, 0.35634316],\n",
              "       [0.326447  , 0.59056585, 0.77491406, 0.11250743, 0.86501205]])"
            ]
          },
          "metadata": {
            "tags": []
          },
          "execution_count": 34
        }
      ]
    },
    {
      "cell_type": "markdown",
      "metadata": {
        "id": "yeAe8PEK9i4Q",
        "colab_type": "text"
      },
      "source": [
        "# Exercise 1"
      ]
    },
    {
      "cell_type": "code",
      "metadata": {
        "id": "u8KcPkNS-L4p",
        "colab_type": "code",
        "outputId": "46b70480-3943-452a-bbc9-d4a841fdf6ef",
        "colab": {
          "base_uri": "https://localhost:8080/",
          "height": 187
        }
      },
      "source": [
        "a=np.random.rand(10,5)\n",
        "b=np.random.randint(2,size = (10))\n",
        "a[:,4]=b\n",
        "a"
      ],
      "execution_count": 0,
      "outputs": [
        {
          "output_type": "execute_result",
          "data": {
            "text/plain": [
              "array([[0.83115886, 0.31009796, 0.00585701, 0.04529495, 0.        ],\n",
              "       [0.29926501, 0.34404779, 0.75038733, 0.56084891, 0.        ],\n",
              "       [0.50809157, 0.78974241, 0.41785604, 0.59549256, 1.        ],\n",
              "       [0.72045518, 0.77522821, 0.02006999, 0.65534771, 1.        ],\n",
              "       [0.79465861, 0.8460352 , 0.57473022, 0.83248761, 0.        ],\n",
              "       [0.75009226, 0.69827169, 0.96199082, 0.94974121, 0.        ],\n",
              "       [0.12345936, 0.77553387, 0.51101338, 0.80330426, 1.        ],\n",
              "       [0.4297618 , 0.42901253, 0.74709324, 0.20066337, 1.        ],\n",
              "       [0.99950289, 0.17518921, 0.15268999, 0.58544087, 0.        ],\n",
              "       [0.92311068, 0.90423104, 0.14153419, 0.39466046, 1.        ]])"
            ]
          },
          "metadata": {
            "tags": []
          },
          "execution_count": 35
        }
      ]
    },
    {
      "cell_type": "code",
      "metadata": {
        "id": "ysxcZmYOJ_lt",
        "colab_type": "code",
        "outputId": "b1575afd-e189-46cb-ef5c-eb72cfa0b295",
        "colab": {
          "base_uri": "https://localhost:8080/",
          "height": 187
        }
      },
      "source": [
        "a=np.random.rand(10,5)\n",
        "b=np.random.choice(2,10)\n",
        "a[:,4]=b\n",
        "a"
      ],
      "execution_count": 0,
      "outputs": [
        {
          "output_type": "execute_result",
          "data": {
            "text/plain": [
              "array([[0.81926518, 0.68101372, 0.29719309, 0.25524091, 0.        ],\n",
              "       [0.0418675 , 0.088094  , 0.53215953, 0.21820834, 1.        ],\n",
              "       [0.27592448, 0.54432867, 0.1117413 , 0.53756059, 1.        ],\n",
              "       [0.26528497, 0.03504597, 0.30607206, 0.72548689, 1.        ],\n",
              "       [0.46078457, 0.32387454, 0.33542178, 0.65586703, 0.        ],\n",
              "       [0.8797846 , 0.17112835, 0.07132247, 0.47962193, 0.        ],\n",
              "       [0.04966881, 0.8485175 , 0.57935817, 0.22828729, 1.        ],\n",
              "       [0.19360725, 0.65552302, 0.9926037 , 0.89936849, 0.        ],\n",
              "       [0.01427968, 0.88354196, 0.95328181, 0.79364885, 1.        ],\n",
              "       [0.91944195, 0.78920922, 0.55830411, 0.40764907, 0.        ]])"
            ]
          },
          "metadata": {
            "tags": []
          },
          "execution_count": 36
        }
      ]
    },
    {
      "cell_type": "markdown",
      "metadata": {
        "id": "HC0SbbY9MgTM",
        "colab_type": "text"
      },
      "source": [
        "Create matrix of size (5,5) contains value from 0 to 10"
      ]
    },
    {
      "cell_type": "code",
      "metadata": {
        "id": "sWHNze6uL0mY",
        "colab_type": "code",
        "outputId": "158f2efa-9a77-4444-da73-6cdabb43432d",
        "colab": {
          "base_uri": "https://localhost:8080/",
          "height": 102
        }
      },
      "source": [
        "np_matrix = np.random.randint(11,size = (5,5))\n",
        "np_matrix"
      ],
      "execution_count": 0,
      "outputs": [
        {
          "output_type": "execute_result",
          "data": {
            "text/plain": [
              "array([[ 1,  7,  1,  5,  3],\n",
              "       [ 1,  6,  5,  6,  6],\n",
              "       [ 6,  0,  9,  4,  6],\n",
              "       [10,  3,  7,  5,  1],\n",
              "       [ 0,  6,  9,  6,  7]])"
            ]
          },
          "metadata": {
            "tags": []
          },
          "execution_count": 37
        }
      ]
    },
    {
      "cell_type": "markdown",
      "metadata": {
        "id": "xywVBKIcM3Ec",
        "colab_type": "text"
      },
      "source": [
        "Delete rows 2 and 3 from this matrix"
      ]
    },
    {
      "cell_type": "code",
      "metadata": {
        "id": "WM4C-n9kM0Ow",
        "colab_type": "code",
        "outputId": "be67a711-542f-4f6e-a930-b2cf0017ddc3",
        "colab": {
          "base_uri": "https://localhost:8080/",
          "height": 68
        }
      },
      "source": [
        "np_matrix = np.delete(np_matrix,[1,2],0)\n",
        "np_matrix"
      ],
      "execution_count": 0,
      "outputs": [
        {
          "output_type": "execute_result",
          "data": {
            "text/plain": [
              "array([[ 1,  7,  1,  5,  3],\n",
              "       [10,  3,  7,  5,  1],\n",
              "       [ 0,  6,  9,  6,  7]])"
            ]
          },
          "metadata": {
            "tags": []
          },
          "execution_count": 38
        }
      ]
    },
    {
      "cell_type": "markdown",
      "metadata": {
        "id": "AoTL_e9GNObL",
        "colab_type": "text"
      },
      "source": [
        "Create matrix of size (5,5) contains value from 0 to 2"
      ]
    },
    {
      "cell_type": "code",
      "metadata": {
        "id": "buwCKdWqNFH6",
        "colab_type": "code",
        "outputId": "4d0931a9-0265-408c-b099-28e019d9199c",
        "colab": {
          "base_uri": "https://localhost:8080/",
          "height": 102
        }
      },
      "source": [
        "np_matrix = np.random.randint(3,size = (5,5))\n",
        "np_matrix"
      ],
      "execution_count": 0,
      "outputs": [
        {
          "output_type": "execute_result",
          "data": {
            "text/plain": [
              "array([[2, 1, 1, 2, 0],\n",
              "       [2, 0, 0, 2, 2],\n",
              "       [0, 1, 2, 2, 1],\n",
              "       [0, 1, 2, 1, 1],\n",
              "       [1, 1, 1, 0, 1]])"
            ]
          },
          "metadata": {
            "tags": []
          },
          "execution_count": 39
        }
      ]
    },
    {
      "cell_type": "markdown",
      "metadata": {
        "id": "_3ekcSiKNzWE",
        "colab_type": "text"
      },
      "source": [
        "Find index of 2 from matrix\n",
        "** 2 อยู่ไหนใน matrix ,มันจะบอกเป็น ตำแหน่งเอา"
      ]
    },
    {
      "cell_type": "code",
      "metadata": {
        "id": "Np6L-Aq-NpVZ",
        "colab_type": "code",
        "outputId": "0e53853d-4cc6-4b2d-97b7-3fd771d6d47b",
        "colab": {
          "base_uri": "https://localhost:8080/",
          "height": 34
        }
      },
      "source": [
        "result = np.where(np_matrix == 2)\n",
        "result"
      ],
      "execution_count": 0,
      "outputs": [
        {
          "output_type": "execute_result",
          "data": {
            "text/plain": [
              "(array([0, 0, 1, 1, 1, 2, 2, 3]), array([0, 3, 0, 3, 4, 2, 3, 2]))"
            ]
          },
          "metadata": {
            "tags": []
          },
          "execution_count": 40
        }
      ]
    },
    {
      "cell_type": "markdown",
      "metadata": {
        "id": "1nFHwv1NOo96",
        "colab_type": "text"
      },
      "source": [
        "Another way"
      ]
    },
    {
      "cell_type": "code",
      "metadata": {
        "id": "O1Nt4IMsN9xQ",
        "colab_type": "code",
        "outputId": "072cbd19-75bb-4bfa-b93e-556f6050d95a",
        "colab": {
          "base_uri": "https://localhost:8080/",
          "height": 102
        }
      },
      "source": [
        "result = (np_matrix == 2)\n",
        "result"
      ],
      "execution_count": 0,
      "outputs": [
        {
          "output_type": "execute_result",
          "data": {
            "text/plain": [
              "array([[ True, False, False,  True, False],\n",
              "       [ True, False, False,  True,  True],\n",
              "       [False, False,  True,  True, False],\n",
              "       [False, False,  True, False, False],\n",
              "       [False, False, False, False, False]])"
            ]
          },
          "metadata": {
            "tags": []
          },
          "execution_count": 41
        }
      ]
    },
    {
      "cell_type": "markdown",
      "metadata": {
        "id": "dd0sSv-QO2gj",
        "colab_type": "text"
      },
      "source": [
        "Find and Replace Values"
      ]
    },
    {
      "cell_type": "code",
      "metadata": {
        "id": "Kj9eT15E60pD",
        "colab_type": "code",
        "outputId": "cd6e0a2a-03df-4d81-8976-0f7438de1d0d",
        "colab": {
          "base_uri": "https://localhost:8080/",
          "height": 215
        }
      },
      "source": [
        "import matplotlib.pyplot as plt\n",
        "fig, axes = plt.subplots(1,2,figsize=(8,3))\n",
        "axes[0].hist(np.random.rand(1000))\n",
        "axes[1].hist(np.random.randn(1000))\n",
        "plt.show()"
      ],
      "execution_count": 0,
      "outputs": [
        {
          "output_type": "display_data",
          "data": {
            "image/png": "[encoded data removed]",
            "text/plain": [
              "<Figure size 576x216 with 2 Axes>"
            ]
          },
          "metadata": {
            "tags": []
          }
        }
      ]
    },
    {
      "cell_type": "markdown",
      "metadata": {
        "id": "thl2OGILPIe6",
        "colab_type": "text"
      },
      "source": [
        "# Exercise 2"
      ]
    },
    {
      "cell_type": "code",
      "metadata": {
        "id": "wWc5LgESO-aA",
        "colab_type": "code",
        "outputId": "91460db7-5625-4570-e9cc-c8859ba1ae57",
        "colab": {
          "base_uri": "https://localhost:8080/",
          "height": 187
        }
      },
      "source": [
        "a=np.random.rand(10,5)\n",
        "a\n",
        "\n"
      ],
      "execution_count": 0,
      "outputs": [
        {
          "output_type": "execute_result",
          "data": {
            "text/plain": [
              "array([[0.46792377, 0.86459795, 0.67387027, 0.55239021, 0.49905248],\n",
              "       [0.72254445, 0.61720872, 0.08902581, 0.6731553 , 0.7924507 ],\n",
              "       [0.36925365, 0.23896374, 0.47885992, 0.71478983, 0.00149936],\n",
              "       [0.51096452, 0.43485956, 0.81801944, 0.66123383, 0.0733701 ],\n",
              "       [0.8775101 , 0.39725992, 0.57514474, 0.76377905, 0.47887041],\n",
              "       [0.11507218, 0.64680328, 0.70448372, 0.88536395, 0.37593885],\n",
              "       [0.03798727, 0.64369127, 0.78220431, 0.82462011, 0.51714006],\n",
              "       [0.44414678, 0.35701927, 0.49274347, 0.87885581, 0.71036839],\n",
              "       [0.23606412, 0.09601739, 0.2718351 , 0.40590996, 0.88573849],\n",
              "       [0.3439043 , 0.34555237, 0.7658972 , 0.92074469, 0.68818003]])"
            ]
          },
          "metadata": {
            "tags": []
          },
          "execution_count": 43
        }
      ]
    },
    {
      "cell_type": "code",
      "metadata": {
        "id": "h_KKd4aYQQeX",
        "colab_type": "code",
        "outputId": "3f90c39c-ecc4-4676-b291-5845452d0dc4",
        "colab": {
          "base_uri": "https://localhost:8080/",
          "height": 34
        }
      },
      "source": [
        "b=np.random.choice(3,10)\n",
        "b\n"
      ],
      "execution_count": 0,
      "outputs": [
        {
          "output_type": "execute_result",
          "data": {
            "text/plain": [
              "array([0, 2, 2, 1, 1, 2, 1, 0, 2, 0])"
            ]
          },
          "metadata": {
            "tags": []
          },
          "execution_count": 44
        }
      ]
    },
    {
      "cell_type": "code",
      "metadata": {
        "id": "3Yqrh_3oUpNN",
        "colab_type": "code",
        "outputId": "83f612b0-81ff-420c-e7c6-ab194f9c7533",
        "colab": {
          "base_uri": "https://localhost:8080/",
          "height": 34
        }
      },
      "source": [
        "c=np.where(b==2)\n",
        "c"
      ],
      "execution_count": 0,
      "outputs": [
        {
          "output_type": "execute_result",
          "data": {
            "text/plain": [
              "(array([1, 2, 5, 8]),)"
            ]
          },
          "metadata": {
            "tags": []
          },
          "execution_count": 45
        }
      ]
    },
    {
      "cell_type": "code",
      "metadata": {
        "id": "vS4JP2RFUqQi",
        "colab_type": "code",
        "outputId": "f8c16a7e-e17e-4651-827e-eb9eb6917e97",
        "colab": {
          "base_uri": "https://localhost:8080/",
          "height": 85
        }
      },
      "source": [
        "result = a[c]\n",
        "result\n"
      ],
      "execution_count": 0,
      "outputs": [
        {
          "output_type": "execute_result",
          "data": {
            "text/plain": [
              "array([[0.72254445, 0.61720872, 0.08902581, 0.6731553 , 0.7924507 ],\n",
              "       [0.36925365, 0.23896374, 0.47885992, 0.71478983, 0.00149936],\n",
              "       [0.11507218, 0.64680328, 0.70448372, 0.88536395, 0.37593885],\n",
              "       [0.23606412, 0.09601739, 0.2718351 , 0.40590996, 0.88573849]])"
            ]
          },
          "metadata": {
            "tags": []
          },
          "execution_count": 52
        }
      ]
    },
    {
      "cell_type": "markdown",
      "metadata": {
        "id": "6aoOfsNFnoAb",
        "colab_type": "text"
      },
      "source": [
        "# Next Python 2\n",
        "# EX.3\n"
      ]
    },
    {
      "cell_type": "code",
      "metadata": {
        "id": "AeHzu79_nw0v",
        "colab_type": "code",
        "outputId": "6774a8ae-ed5f-46c8-ae0c-73ff184dcab7",
        "colab": {
          "base_uri": "https://localhost:8080/",
          "height": 34
        }
      },
      "source": [
        "np.max(np_matrix,0)"
      ],
      "execution_count": 0,
      "outputs": [
        {
          "output_type": "execute_result",
          "data": {
            "text/plain": [
              "array([2, 1, 2, 2, 2])"
            ]
          },
          "metadata": {
            "tags": []
          },
          "execution_count": 54
        }
      ]
    },
    {
      "cell_type": "code",
      "metadata": {
        "id": "0N6VeWZDoYWO",
        "colab_type": "code",
        "outputId": "984e6a1f-5060-41c7-af36-088a11ff4149",
        "colab": {
          "base_uri": "https://localhost:8080/",
          "height": 34
        }
      },
      "source": [
        "np.min(np_matrix,1)"
      ],
      "execution_count": 0,
      "outputs": [
        {
          "output_type": "execute_result",
          "data": {
            "text/plain": [
              "array([0, 0, 0, 0, 0])"
            ]
          },
          "metadata": {
            "tags": []
          },
          "execution_count": 55
        }
      ]
    },
    {
      "cell_type": "code",
      "metadata": {
        "id": "GulF5LlFo4Cz",
        "colab_type": "code",
        "outputId": "ea6cd31c-4567-43e0-f09e-42bf705843de",
        "colab": {
          "base_uri": "https://localhost:8080/",
          "height": 34
        }
      },
      "source": [
        "np.mean(np_matrix)"
      ],
      "execution_count": 0,
      "outputs": [
        {
          "output_type": "execute_result",
          "data": {
            "text/plain": [
              "1.08"
            ]
          },
          "metadata": {
            "tags": []
          },
          "execution_count": 56
        }
      ]
    },
    {
      "cell_type": "code",
      "metadata": {
        "id": "j1HIkUwbo9Zm",
        "colab_type": "code",
        "outputId": "ab04c829-e3d0-4995-ad09-847326cae440",
        "colab": {
          "base_uri": "https://localhost:8080/",
          "height": 34
        }
      },
      "source": [
        "np.median(np_matrix)"
      ],
      "execution_count": 0,
      "outputs": [
        {
          "output_type": "execute_result",
          "data": {
            "text/plain": [
              "1.0"
            ]
          },
          "metadata": {
            "tags": []
          },
          "execution_count": 57
        }
      ]
    },
    {
      "cell_type": "code",
      "metadata": {
        "id": "xyqxrQVLpBhe",
        "colab_type": "code",
        "outputId": "cf3ec001-7f9a-4d48-a813-a3e15aa90232",
        "colab": {
          "base_uri": "https://localhost:8080/",
          "height": 34
        }
      },
      "source": [
        "np.argmax(np_matrix,0)"
      ],
      "execution_count": 0,
      "outputs": [
        {
          "output_type": "execute_result",
          "data": {
            "text/plain": [
              "array([0, 0, 2, 0, 1])"
            ]
          },
          "metadata": {
            "tags": []
          },
          "execution_count": 58
        }
      ]
    },
    {
      "cell_type": "code",
      "metadata": {
        "id": "TF5gPP8VpIkd",
        "colab_type": "code",
        "outputId": "33688c8a-400b-476f-cbb9-f9d0b5740045",
        "colab": {
          "base_uri": "https://localhost:8080/",
          "height": 34
        }
      },
      "source": [
        "np.argmin(np_matrix,0)"
      ],
      "execution_count": 0,
      "outputs": [
        {
          "output_type": "execute_result",
          "data": {
            "text/plain": [
              "array([2, 1, 1, 4, 0])"
            ]
          },
          "metadata": {
            "tags": []
          },
          "execution_count": 59
        }
      ]
    },
    {
      "cell_type": "markdown",
      "metadata": {
        "id": "48SYD6nQpXPq",
        "colab_type": "text"
      },
      "source": [
        "#Arange and Linspace"
      ]
    },
    {
      "cell_type": "code",
      "metadata": {
        "id": "5FO1-5ropNLW",
        "colab_type": "code",
        "outputId": "6510c134-81ca-4977-cf56-13176d13db6a",
        "colab": {
          "base_uri": "https://localhost:8080/",
          "height": 34
        }
      },
      "source": [
        "np.arange(5,10,2)"
      ],
      "execution_count": 0,
      "outputs": [
        {
          "output_type": "execute_result",
          "data": {
            "text/plain": [
              "array([5, 7, 9])"
            ]
          },
          "metadata": {
            "tags": []
          },
          "execution_count": 62
        }
      ]
    },
    {
      "cell_type": "code",
      "metadata": {
        "id": "d8Qf1gowpnjE",
        "colab_type": "code",
        "outputId": "c78e29d4-1680-4631-a8b5-bdd3713435a3",
        "colab": {
          "base_uri": "https://localhost:8080/",
          "height": 51
        }
      },
      "source": [
        "np.linspace(5,10,10)"
      ],
      "execution_count": 0,
      "outputs": [
        {
          "output_type": "execute_result",
          "data": {
            "text/plain": [
              "array([ 5.        ,  5.55555556,  6.11111111,  6.66666667,  7.22222222,\n",
              "        7.77777778,  8.33333333,  8.88888889,  9.44444444, 10.        ])"
            ]
          },
          "metadata": {
            "tags": []
          },
          "execution_count": 63
        }
      ]
    },
    {
      "cell_type": "markdown",
      "metadata": {
        "id": "RZyxEOQ-qCF-",
        "colab_type": "text"
      },
      "source": [
        "# EX.3\n"
      ]
    },
    {
      "cell_type": "code",
      "metadata": {
        "id": "oR773ws5p2mp",
        "colab_type": "code",
        "colab": {
          "base_uri": "https://localhost:8080/",
          "height": 269
        },
        "outputId": "a3852ac6-535b-4f66-e58d-111f00f54b88"
      },
      "source": [
        "import numpy as np\n",
        "import matplotlib.pyplot as plt\n",
        "x = np.linspace(0,12,80)\n",
        "y = np.cos(x)\n",
        "plt.plot(x,y)\n",
        "plt.show()"
      ],
      "execution_count": 86,
      "outputs": [
        {
          "output_type": "display_data",
          "data": {
            "image/png": "[encoded data removed]",
            "text/plain": [
              "<Figure size 432x288 with 1 Axes>"
            ]
          },
          "metadata": {
            "tags": []
          }
        }
      ]
    },
    {
      "cell_type": "markdown",
      "metadata": {
        "id": "lRskVt7a7-YI",
        "colab_type": "text"
      },
      "source": [
        "# EX.4"
      ]
    },
    {
      "cell_type": "code",
      "metadata": {
        "id": "ruPg3c4UqS20",
        "colab_type": "code",
        "colab": {
          "base_uri": "https://localhost:8080/",
          "height": 102
        },
        "outputId": "9ea3a5c6-97cd-4876-cb4d-1e2c48d365b5"
      },
      "source": [
        "np_test = np.arange(25).reshape(5,5)\n",
        "np_test\n",
        "\n"
      ],
      "execution_count": 101,
      "outputs": [
        {
          "output_type": "execute_result",
          "data": {
            "text/plain": [
              "array([[ 0,  1,  2,  3,  4],\n",
              "       [ 5,  6,  7,  8,  9],\n",
              "       [10, 11, 12, 13, 14],\n",
              "       [15, 16, 17, 18, 19],\n",
              "       [20, 21, 22, 23, 24]])"
            ]
          },
          "metadata": {
            "tags": []
          },
          "execution_count": 101
        }
      ]
    },
    {
      "cell_type": "code",
      "metadata": {
        "id": "-fWmFefJ8tKY",
        "colab_type": "code",
        "colab": {
          "base_uri": "https://localhost:8080/",
          "height": 34
        },
        "outputId": "7c873c58-9e0b-4119-9f37-fdfae1958002"
      },
      "source": [
        "np_test = np.arange(25).reshape(5,5)\n",
        "np_testA = np_test%3 ==0\n",
        "np_test[np_testA]"
      ],
      "execution_count": 115,
      "outputs": [
        {
          "output_type": "execute_result",
          "data": {
            "text/plain": [
              "array([ 0,  3,  6,  9, 12, 15, 18, 21, 24])"
            ]
          },
          "metadata": {
            "tags": []
          },
          "execution_count": 115
        }
      ]
    },
    {
      "cell_type": "markdown",
      "metadata": {
        "id": "CUxb5byDCnSn",
        "colab_type": "text"
      },
      "source": [
        "#EX.5"
      ]
    },
    {
      "cell_type": "code",
      "metadata": {
        "id": "vHqIA0yVAden",
        "colab_type": "code",
        "colab": {
          "base_uri": "https://localhost:8080/",
          "height": 102
        },
        "outputId": "dc24eedc-0d1f-4ef4-8d67-e103a0adaba0"
      },
      "source": [
        "np_test = np.arange(25).reshape(5,5)\n",
        "np_testA=np.fill_diagonal(np_test,0)\n",
        "np_test"
      ],
      "execution_count": 128,
      "outputs": [
        {
          "output_type": "execute_result",
          "data": {
            "text/plain": [
              "array([[ 0,  1,  2,  3,  4],\n",
              "       [ 5,  0,  7,  8,  9],\n",
              "       [10, 11,  0, 13, 14],\n",
              "       [15, 16, 17,  0, 19],\n",
              "       [20, 21, 22, 23,  0]])"
            ]
          },
          "metadata": {
            "tags": []
          },
          "execution_count": 128
        }
      ]
    },
    {
      "cell_type": "markdown",
      "metadata": {
        "id": "0sasUgX2FOm7",
        "colab_type": "text"
      },
      "source": [
        "#EX.6"
      ]
    },
    {
      "cell_type": "code",
      "metadata": {
        "id": "DBFGKpB1DMZ6",
        "colab_type": "code",
        "colab": {}
      },
      "source": [
        "\n",
        "\n"
      ],
      "execution_count": 0,
      "outputs": []
    }
  ]
}
{
  "nbformat": 4,
  "nbformat_minor": 0,
  "metadata": {
    "colab": {
      "name": "Copy of python_ex6.ipynb",
      "provenance": [],
      "include_colab_link": true
    },
    "kernelspec": {
      "name": "python3",
      "display_name": "Python 3"
    }
  },
  "cells": [
    {
      "cell_type": "markdown",
      "metadata": {
        "id": "view-in-github",
        "colab_type": "text"
      },
      "source": [
        "<a href=\"https://colab.research.google.com/github/wawarisa29/Datawarehouse/blob/master/ex6.ipynb\" target=\"_parent\"><img src=\"https://colab.research.google.com/assets/colab-badge.svg\" alt=\"Open In Colab\"/></a>"
      ]
    },
    {
      "cell_type": "markdown",
      "metadata": {
        "id": "9ao50DmwJSTt",
        "colab_type": "text"
      },
      "source": [
        "# EX6"
      ]
    },
    {
      "cell_type": "markdown",
      "metadata": {
        "id": "LTC61hmQwqGe",
        "colab_type": "text"
      },
      "source": [
        "# Load titanic Data "
      ]
    },
    {
      "cell_type": "code",
      "metadata": {
        "id": "aMA0H-mVwpWk",
        "colab_type": "code",
        "colab": {}
      },
      "source": [
        "import numpy as np\n",
        "titanic = np.genfromtxt('https://raw.githubusercontent.com/wawarisa29/Datawarehouse/master/titanic3.csv',delimiter=';',missing_values = None,dtype=str)"
      ],
      "execution_count": 0,
      "outputs": []
    },
    {
      "cell_type": "code",
      "metadata": {
        "id": "icbYddcGxBmm",
        "colab_type": "code",
        "outputId": "0b2e954b-0c69-49e7-c9aa-5a81dce55aaf",
        "colab": {
          "base_uri": "https://localhost:8080/",
          "height": 34
        }
      },
      "source": [
        "titanic.shape"
      ],
      "execution_count": 0,
      "outputs": [
        {
          "output_type": "execute_result",
          "data": {
            "text/plain": [
              "(1309, 12)"
            ]
          },
          "metadata": {
            "tags": []
          },
          "execution_count": 46
        }
      ]
    },
    {
      "cell_type": "markdown",
      "metadata": {
        "id": "ukP2TkSHHYqG",
        "colab_type": "text"
      },
      "source": [
        "#Remove useless column"
      ]
    },
    {
      "cell_type": "code",
      "metadata": {
        "id": "ybSuHGiAHPRt",
        "colab_type": "code",
        "outputId": "4b20f9a6-2c79-4984-84c1-edd72c23ea44",
        "colab": {
          "base_uri": "https://localhost:8080/",
          "height": 136
        }
      },
      "source": [
        "titanic_clean = np.delete(titanic,[1,6,7,8,9,10],1)\n",
        "titanic_clean"
      ],
      "execution_count": 0,
      "outputs": [
        {
          "output_type": "execute_result",
          "data": {
            "text/plain": [
              "array([['First', 'Female', '29.0', '0', '0', 'Yes'],\n",
              "       ['First', 'Male', '0.9167', '1', '2', 'Yes'],\n",
              "       ['First', 'Female', '2.0', '1', '2', 'No'],\n",
              "       ...,\n",
              "       ['Third', 'Male', '26.5', '0', '0', 'No'],\n",
              "       ['Third', 'Male', '27.0', '0', '0', 'No'],\n",
              "       ['Third', 'Male', '29.0', '0', '0', 'No']], dtype='<U82')"
            ]
          },
          "metadata": {
            "tags": []
          },
          "execution_count": 47
        }
      ]
    },
    {
      "cell_type": "code",
      "metadata": {
        "id": "vcBub0r3KBZj",
        "colab_type": "code",
        "outputId": "b05e5dc4-8f3a-43a4-e249-875c75dd1712",
        "colab": {
          "base_uri": "https://localhost:8080/",
          "height": 34
        }
      },
      "source": [
        "sex_class = np.unique(titanic_clean[:,1])\n",
        "sex_class"
      ],
      "execution_count": 0,
      "outputs": [
        {
          "output_type": "execute_result",
          "data": {
            "text/plain": [
              "array(['Female', 'Male'], dtype='<U82')"
            ]
          },
          "metadata": {
            "tags": []
          },
          "execution_count": 49
        }
      ]
    },
    {
      "cell_type": "code",
      "metadata": {
        "id": "v54kkOIBK_Di",
        "colab_type": "code",
        "outputId": "98b496b1-cf57-4805-a8a2-e6c0fbc9d4fe",
        "colab": {
          "base_uri": "https://localhost:8080/",
          "height": 34
        }
      },
      "source": [
        "survided = np.unique(titanic_clean[:,-1])\n",
        "survided"
      ],
      "execution_count": 0,
      "outputs": [
        {
          "output_type": "execute_result",
          "data": {
            "text/plain": [
              "array(['No', 'Yes'], dtype='<U82')"
            ]
          },
          "metadata": {
            "tags": []
          },
          "execution_count": 50
        }
      ]
    },
    {
      "cell_type": "code",
      "metadata": {
        "id": "QobppUw6Kduy",
        "colab_type": "code",
        "outputId": "4ac2b6d9-49aa-4d2f-c765-c75860e29afb",
        "colab": {
          "base_uri": "https://localhost:8080/",
          "height": 34
        }
      },
      "source": [
        "sex_class_value=[sum(titanic_clean[:,1]==sex_class[0]),\n",
        "                sum(titanic_clean[:,1]==sex_class[1])]\n",
        "sex_class_value"
      ],
      "execution_count": 0,
      "outputs": [
        {
          "output_type": "execute_result",
          "data": {
            "text/plain": [
              "[466, 843]"
            ]
          },
          "metadata": {
            "tags": []
          },
          "execution_count": 51
        }
      ]
    },
    {
      "cell_type": "code",
      "metadata": {
        "id": "SMifdSmuLcwS",
        "colab_type": "code",
        "outputId": "9fd8bca9-86e4-4f8e-b1c5-8758f9b72e9b",
        "colab": {
          "base_uri": "https://localhost:8080/",
          "height": 34
        }
      },
      "source": [
        "survided_value = [sum(titanic_clean[:,-1]==survided[0]),\n",
        "                 sum(titanic_clean[:,-1]==survided[1])]\n",
        "survided_value"
      ],
      "execution_count": 0,
      "outputs": [
        {
          "output_type": "execute_result",
          "data": {
            "text/plain": [
              "[809, 500]"
            ]
          },
          "metadata": {
            "tags": []
          },
          "execution_count": 52
        }
      ]
    },
    {
      "cell_type": "code",
      "metadata": {
        "id": "F9Ww8Sh9OhQ0",
        "colab_type": "code",
        "outputId": "6f199c5b-1357-46c4-e6a0-6a55ade1ab49",
        "colab": {
          "base_uri": "https://localhost:8080/",
          "height": 394
        }
      },
      "source": [
        "import matplotlib.pyplot as plt\n",
        "fig, axes = plt.subplots(1,2,figsize=(8,3))\n",
        "axes[0].bar(sex_class,sex_class_value)\n",
        "axes[1].bar(survided,survided_value)\n",
        "plt.bar()"
      ],
      "execution_count": 0,
      "outputs": [
        {
          "output_type": "error",
          "ename": "TypeError",
          "evalue": "ignored",
          "traceback": [
            "\u001b[0;31m---------------------------------------------------------------------------\u001b[0m",
            "\u001b[0;31mTypeError\u001b[0m                                 Traceback (most recent call last)",
            "\u001b[0;32m<ipython-input-61-37e5c8c76f81>\u001b[0m in \u001b[0;36m<module>\u001b[0;34m()\u001b[0m\n\u001b[1;32m      3\u001b[0m \u001b[0maxes\u001b[0m\u001b[0;34m[\u001b[0m\u001b[0;36m0\u001b[0m\u001b[0;34m]\u001b[0m\u001b[0;34m.\u001b[0m\u001b[0mbar\u001b[0m\u001b[0;34m(\u001b[0m\u001b[0msex_class\u001b[0m\u001b[0;34m,\u001b[0m\u001b[0msex_class_value\u001b[0m\u001b[0;34m)\u001b[0m\u001b[0;34m\u001b[0m\u001b[0;34m\u001b[0m\u001b[0m\n\u001b[1;32m      4\u001b[0m \u001b[0maxes\u001b[0m\u001b[0;34m[\u001b[0m\u001b[0;36m1\u001b[0m\u001b[0;34m]\u001b[0m\u001b[0;34m.\u001b[0m\u001b[0mbar\u001b[0m\u001b[0;34m(\u001b[0m\u001b[0msurvided\u001b[0m\u001b[0;34m,\u001b[0m\u001b[0msurvided_value\u001b[0m\u001b[0;34m)\u001b[0m\u001b[0;34m\u001b[0m\u001b[0;34m\u001b[0m\u001b[0m\n\u001b[0;32m----> 5\u001b[0;31m \u001b[0mplt\u001b[0m\u001b[0;34m.\u001b[0m\u001b[0mbar\u001b[0m\u001b[0;34m(\u001b[0m\u001b[0;34m)\u001b[0m\u001b[0;34m\u001b[0m\u001b[0;34m\u001b[0m\u001b[0m\n\u001b[0m",
            "\u001b[0;31mTypeError\u001b[0m: bar() missing 2 required positional arguments: 'x' and 'height'"
          ]
        },
        {
          "output_type": "display_data",
          "data": {
            "image/png": "[encoded data removed]",
            "text/plain": [
              "<Figure size 576x216 with 2 Axes>"
            ]
          },
          "metadata": {
            "tags": []
          }
        }
      ]
    },
    {
      "cell_type": "markdown",
      "metadata": {
        "id": "wohfFO1ITReL",
        "colab_type": "text"
      },
      "source": [
        "#EX.7"
      ]
    },
    {
      "cell_type": "code",
      "metadata": {
        "id": "mxw4_hk0SGOa",
        "colab_type": "code",
        "colab": {}
      },
      "source": [
        "x_norm = "
      ],
      "execution_count": 0,
      "outputs": []
    }
  ]
}